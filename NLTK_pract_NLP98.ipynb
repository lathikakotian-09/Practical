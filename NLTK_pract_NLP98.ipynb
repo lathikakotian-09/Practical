{
  "nbformat": 4,
  "nbformat_minor": 0,
  "metadata": {
    "colab": {
      "provenance": []
    },
    "kernelspec": {
      "name": "python3",
      "display_name": "Python 3"
    },
    "language_info": {
      "name": "python"
    },
    "widgets": {
      "application/vnd.jupyter.widget-state+json": {
        "d0d2407ee0bd478cb98a4b18635f585e": {
          "model_module": "@jupyter-widgets/controls",
          "model_name": "HBoxModel",
          "model_module_version": "1.5.0",
          "state": {
            "_dom_classes": [],
            "_model_module": "@jupyter-widgets/controls",
            "_model_module_version": "1.5.0",
            "_model_name": "HBoxModel",
            "_view_count": null,
            "_view_module": "@jupyter-widgets/controls",
            "_view_module_version": "1.5.0",
            "_view_name": "HBoxView",
            "box_style": "",
            "children": [
              "IPY_MODEL_7012aef13a6e454f87448ba1fc55eeae",
              "IPY_MODEL_03e42a6771494feda6a827c25f0ef151",
              "IPY_MODEL_758288371a3c45f4ba0e33deffca806d"
            ],
            "layout": "IPY_MODEL_c089d7163e8c4eb19164d490a2900b45"
          }
        },
        "7012aef13a6e454f87448ba1fc55eeae": {
          "model_module": "@jupyter-widgets/controls",
          "model_name": "HTMLModel",
          "model_module_version": "1.5.0",
          "state": {
            "_dom_classes": [],
            "_model_module": "@jupyter-widgets/controls",
            "_model_module_version": "1.5.0",
            "_model_name": "HTMLModel",
            "_view_count": null,
            "_view_module": "@jupyter-widgets/controls",
            "_view_module_version": "1.5.0",
            "_view_name": "HTMLView",
            "description": "",
            "description_tooltip": null,
            "layout": "IPY_MODEL_6781191675cd47e3b7b4ac90c39e3fcc",
            "placeholder": "​",
            "style": "IPY_MODEL_b195cefe0b534ae8bf32b248f6540c0c",
            "value": "config.json: 100%"
          }
        },
        "03e42a6771494feda6a827c25f0ef151": {
          "model_module": "@jupyter-widgets/controls",
          "model_name": "FloatProgressModel",
          "model_module_version": "1.5.0",
          "state": {
            "_dom_classes": [],
            "_model_module": "@jupyter-widgets/controls",
            "_model_module_version": "1.5.0",
            "_model_name": "FloatProgressModel",
            "_view_count": null,
            "_view_module": "@jupyter-widgets/controls",
            "_view_module_version": "1.5.0",
            "_view_name": "ProgressView",
            "bar_style": "success",
            "description": "",
            "description_tooltip": null,
            "layout": "IPY_MODEL_0f502f52c35444a3ab732f202c24d6c7",
            "max": 1585,
            "min": 0,
            "orientation": "horizontal",
            "style": "IPY_MODEL_80a90cba363e46c4935e65847daebbce",
            "value": 1585
          }
        },
        "758288371a3c45f4ba0e33deffca806d": {
          "model_module": "@jupyter-widgets/controls",
          "model_name": "HTMLModel",
          "model_module_version": "1.5.0",
          "state": {
            "_dom_classes": [],
            "_model_module": "@jupyter-widgets/controls",
            "_model_module_version": "1.5.0",
            "_model_name": "HTMLModel",
            "_view_count": null,
            "_view_module": "@jupyter-widgets/controls",
            "_view_module_version": "1.5.0",
            "_view_name": "HTMLView",
            "description": "",
            "description_tooltip": null,
            "layout": "IPY_MODEL_e3094026f9a74214a63f80fd97df7b56",
            "placeholder": "​",
            "style": "IPY_MODEL_523e2ee64b844bbbb4da3789de27b3b7",
            "value": " 1.58k/1.58k [00:00&lt;00:00, 92.6kB/s]"
          }
        },
        "c089d7163e8c4eb19164d490a2900b45": {
          "model_module": "@jupyter-widgets/base",
          "model_name": "LayoutModel",
          "model_module_version": "1.2.0",
          "state": {
            "_model_module": "@jupyter-widgets/base",
            "_model_module_version": "1.2.0",
            "_model_name": "LayoutModel",
            "_view_count": null,
            "_view_module": "@jupyter-widgets/base",
            "_view_module_version": "1.2.0",
            "_view_name": "LayoutView",
            "align_content": null,
            "align_items": null,
            "align_self": null,
            "border": null,
            "bottom": null,
            "display": null,
            "flex": null,
            "flex_flow": null,
            "grid_area": null,
            "grid_auto_columns": null,
            "grid_auto_flow": null,
            "grid_auto_rows": null,
            "grid_column": null,
            "grid_gap": null,
            "grid_row": null,
            "grid_template_areas": null,
            "grid_template_columns": null,
            "grid_template_rows": null,
            "height": null,
            "justify_content": null,
            "justify_items": null,
            "left": null,
            "margin": null,
            "max_height": null,
            "max_width": null,
            "min_height": null,
            "min_width": null,
            "object_fit": null,
            "object_position": null,
            "order": null,
            "overflow": null,
            "overflow_x": null,
            "overflow_y": null,
            "padding": null,
            "right": null,
            "top": null,
            "visibility": null,
            "width": null
          }
        },
        "6781191675cd47e3b7b4ac90c39e3fcc": {
          "model_module": "@jupyter-widgets/base",
          "model_name": "LayoutModel",
          "model_module_version": "1.2.0",
          "state": {
            "_model_module": "@jupyter-widgets/base",
            "_model_module_version": "1.2.0",
            "_model_name": "LayoutModel",
            "_view_count": null,
            "_view_module": "@jupyter-widgets/base",
            "_view_module_version": "1.2.0",
            "_view_name": "LayoutView",
            "align_content": null,
            "align_items": null,
            "align_self": null,
            "border": null,
            "bottom": null,
            "display": null,
            "flex": null,
            "flex_flow": null,
            "grid_area": null,
            "grid_auto_columns": null,
            "grid_auto_flow": null,
            "grid_auto_rows": null,
            "grid_column": null,
            "grid_gap": null,
            "grid_row": null,
            "grid_template_areas": null,
            "grid_template_columns": null,
            "grid_template_rows": null,
            "height": null,
            "justify_content": null,
            "justify_items": null,
            "left": null,
            "margin": null,
            "max_height": null,
            "max_width": null,
            "min_height": null,
            "min_width": null,
            "object_fit": null,
            "object_position": null,
            "order": null,
            "overflow": null,
            "overflow_x": null,
            "overflow_y": null,
            "padding": null,
            "right": null,
            "top": null,
            "visibility": null,
            "width": null
          }
        },
        "b195cefe0b534ae8bf32b248f6540c0c": {
          "model_module": "@jupyter-widgets/controls",
          "model_name": "DescriptionStyleModel",
          "model_module_version": "1.5.0",
          "state": {
            "_model_module": "@jupyter-widgets/controls",
            "_model_module_version": "1.5.0",
            "_model_name": "DescriptionStyleModel",
            "_view_count": null,
            "_view_module": "@jupyter-widgets/base",
            "_view_module_version": "1.2.0",
            "_view_name": "StyleView",
            "description_width": ""
          }
        },
        "0f502f52c35444a3ab732f202c24d6c7": {
          "model_module": "@jupyter-widgets/base",
          "model_name": "LayoutModel",
          "model_module_version": "1.2.0",
          "state": {
            "_model_module": "@jupyter-widgets/base",
            "_model_module_version": "1.2.0",
            "_model_name": "LayoutModel",
            "_view_count": null,
            "_view_module": "@jupyter-widgets/base",
            "_view_module_version": "1.2.0",
            "_view_name": "LayoutView",
            "align_content": null,
            "align_items": null,
            "align_self": null,
            "border": null,
            "bottom": null,
            "display": null,
            "flex": null,
            "flex_flow": null,
            "grid_area": null,
            "grid_auto_columns": null,
            "grid_auto_flow": null,
            "grid_auto_rows": null,
            "grid_column": null,
            "grid_gap": null,
            "grid_row": null,
            "grid_template_areas": null,
            "grid_template_columns": null,
            "grid_template_rows": null,
            "height": null,
            "justify_content": null,
            "justify_items": null,
            "left": null,
            "margin": null,
            "max_height": null,
            "max_width": null,
            "min_height": null,
            "min_width": null,
            "object_fit": null,
            "object_position": null,
            "order": null,
            "overflow": null,
            "overflow_x": null,
            "overflow_y": null,
            "padding": null,
            "right": null,
            "top": null,
            "visibility": null,
            "width": null
          }
        },
        "80a90cba363e46c4935e65847daebbce": {
          "model_module": "@jupyter-widgets/controls",
          "model_name": "ProgressStyleModel",
          "model_module_version": "1.5.0",
          "state": {
            "_model_module": "@jupyter-widgets/controls",
            "_model_module_version": "1.5.0",
            "_model_name": "ProgressStyleModel",
            "_view_count": null,
            "_view_module": "@jupyter-widgets/base",
            "_view_module_version": "1.2.0",
            "_view_name": "StyleView",
            "bar_color": null,
            "description_width": ""
          }
        },
        "e3094026f9a74214a63f80fd97df7b56": {
          "model_module": "@jupyter-widgets/base",
          "model_name": "LayoutModel",
          "model_module_version": "1.2.0",
          "state": {
            "_model_module": "@jupyter-widgets/base",
            "_model_module_version": "1.2.0",
            "_model_name": "LayoutModel",
            "_view_count": null,
            "_view_module": "@jupyter-widgets/base",
            "_view_module_version": "1.2.0",
            "_view_name": "LayoutView",
            "align_content": null,
            "align_items": null,
            "align_self": null,
            "border": null,
            "bottom": null,
            "display": null,
            "flex": null,
            "flex_flow": null,
            "grid_area": null,
            "grid_auto_columns": null,
            "grid_auto_flow": null,
            "grid_auto_rows": null,
            "grid_column": null,
            "grid_gap": null,
            "grid_row": null,
            "grid_template_areas": null,
            "grid_template_columns": null,
            "grid_template_rows": null,
            "height": null,
            "justify_content": null,
            "justify_items": null,
            "left": null,
            "margin": null,
            "max_height": null,
            "max_width": null,
            "min_height": null,
            "min_width": null,
            "object_fit": null,
            "object_position": null,
            "order": null,
            "overflow": null,
            "overflow_x": null,
            "overflow_y": null,
            "padding": null,
            "right": null,
            "top": null,
            "visibility": null,
            "width": null
          }
        },
        "523e2ee64b844bbbb4da3789de27b3b7": {
          "model_module": "@jupyter-widgets/controls",
          "model_name": "DescriptionStyleModel",
          "model_module_version": "1.5.0",
          "state": {
            "_model_module": "@jupyter-widgets/controls",
            "_model_module_version": "1.5.0",
            "_model_name": "DescriptionStyleModel",
            "_view_count": null,
            "_view_module": "@jupyter-widgets/base",
            "_view_module_version": "1.2.0",
            "_view_name": "StyleView",
            "description_width": ""
          }
        },
        "c0344bd8a5fa40b5977998928b31a95d": {
          "model_module": "@jupyter-widgets/controls",
          "model_name": "HBoxModel",
          "model_module_version": "1.5.0",
          "state": {
            "_dom_classes": [],
            "_model_module": "@jupyter-widgets/controls",
            "_model_module_version": "1.5.0",
            "_model_name": "HBoxModel",
            "_view_count": null,
            "_view_module": "@jupyter-widgets/controls",
            "_view_module_version": "1.5.0",
            "_view_name": "HBoxView",
            "box_style": "",
            "children": [
              "IPY_MODEL_1dc93cc684e941ac90741e2ae28cbf7b",
              "IPY_MODEL_9c6be8bc977d437e90f69f24b3289b62",
              "IPY_MODEL_42b0f047683d4718ab316f14744826a4"
            ],
            "layout": "IPY_MODEL_8531187e35a34190bc7b93b0a8e64e64"
          }
        },
        "1dc93cc684e941ac90741e2ae28cbf7b": {
          "model_module": "@jupyter-widgets/controls",
          "model_name": "HTMLModel",
          "model_module_version": "1.5.0",
          "state": {
            "_dom_classes": [],
            "_model_module": "@jupyter-widgets/controls",
            "_model_module_version": "1.5.0",
            "_model_name": "HTMLModel",
            "_view_count": null,
            "_view_module": "@jupyter-widgets/controls",
            "_view_module_version": "1.5.0",
            "_view_name": "HTMLView",
            "description": "",
            "description_tooltip": null,
            "layout": "IPY_MODEL_3850749cfc7147d59fff4e4ff61f01fe",
            "placeholder": "​",
            "style": "IPY_MODEL_33b6ba6e215f4706be4178c970f1ffa0",
            "value": "model.safetensors: 100%"
          }
        },
        "9c6be8bc977d437e90f69f24b3289b62": {
          "model_module": "@jupyter-widgets/controls",
          "model_name": "FloatProgressModel",
          "model_module_version": "1.5.0",
          "state": {
            "_dom_classes": [],
            "_model_module": "@jupyter-widgets/controls",
            "_model_module_version": "1.5.0",
            "_model_name": "FloatProgressModel",
            "_view_count": null,
            "_view_module": "@jupyter-widgets/controls",
            "_view_module_version": "1.5.0",
            "_view_name": "ProgressView",
            "bar_style": "success",
            "description": "",
            "description_tooltip": null,
            "layout": "IPY_MODEL_dd0911aaacf0431daed69f2abefe6df9",
            "max": 1625222120,
            "min": 0,
            "orientation": "horizontal",
            "style": "IPY_MODEL_12fd21cca08b493a966280c9e050e03b",
            "value": 1625222120
          }
        },
        "42b0f047683d4718ab316f14744826a4": {
          "model_module": "@jupyter-widgets/controls",
          "model_name": "HTMLModel",
          "model_module_version": "1.5.0",
          "state": {
            "_dom_classes": [],
            "_model_module": "@jupyter-widgets/controls",
            "_model_module_version": "1.5.0",
            "_model_name": "HTMLModel",
            "_view_count": null,
            "_view_module": "@jupyter-widgets/controls",
            "_view_module_version": "1.5.0",
            "_view_name": "HTMLView",
            "description": "",
            "description_tooltip": null,
            "layout": "IPY_MODEL_d83807a3477a40479bbd78cc1a789b2f",
            "placeholder": "​",
            "style": "IPY_MODEL_dbe0eda87521404692b13460c16c53f1",
            "value": " 1.63G/1.63G [00:14&lt;00:00, 135MB/s]"
          }
        },
        "8531187e35a34190bc7b93b0a8e64e64": {
          "model_module": "@jupyter-widgets/base",
          "model_name": "LayoutModel",
          "model_module_version": "1.2.0",
          "state": {
            "_model_module": "@jupyter-widgets/base",
            "_model_module_version": "1.2.0",
            "_model_name": "LayoutModel",
            "_view_count": null,
            "_view_module": "@jupyter-widgets/base",
            "_view_module_version": "1.2.0",
            "_view_name": "LayoutView",
            "align_content": null,
            "align_items": null,
            "align_self": null,
            "border": null,
            "bottom": null,
            "display": null,
            "flex": null,
            "flex_flow": null,
            "grid_area": null,
            "grid_auto_columns": null,
            "grid_auto_flow": null,
            "grid_auto_rows": null,
            "grid_column": null,
            "grid_gap": null,
            "grid_row": null,
            "grid_template_areas": null,
            "grid_template_columns": null,
            "grid_template_rows": null,
            "height": null,
            "justify_content": null,
            "justify_items": null,
            "left": null,
            "margin": null,
            "max_height": null,
            "max_width": null,
            "min_height": null,
            "min_width": null,
            "object_fit": null,
            "object_position": null,
            "order": null,
            "overflow": null,
            "overflow_x": null,
            "overflow_y": null,
            "padding": null,
            "right": null,
            "top": null,
            "visibility": null,
            "width": null
          }
        },
        "3850749cfc7147d59fff4e4ff61f01fe": {
          "model_module": "@jupyter-widgets/base",
          "model_name": "LayoutModel",
          "model_module_version": "1.2.0",
          "state": {
            "_model_module": "@jupyter-widgets/base",
            "_model_module_version": "1.2.0",
            "_model_name": "LayoutModel",
            "_view_count": null,
            "_view_module": "@jupyter-widgets/base",
            "_view_module_version": "1.2.0",
            "_view_name": "LayoutView",
            "align_content": null,
            "align_items": null,
            "align_self": null,
            "border": null,
            "bottom": null,
            "display": null,
            "flex": null,
            "flex_flow": null,
            "grid_area": null,
            "grid_auto_columns": null,
            "grid_auto_flow": null,
            "grid_auto_rows": null,
            "grid_column": null,
            "grid_gap": null,
            "grid_row": null,
            "grid_template_areas": null,
            "grid_template_columns": null,
            "grid_template_rows": null,
            "height": null,
            "justify_content": null,
            "justify_items": null,
            "left": null,
            "margin": null,
            "max_height": null,
            "max_width": null,
            "min_height": null,
            "min_width": null,
            "object_fit": null,
            "object_position": null,
            "order": null,
            "overflow": null,
            "overflow_x": null,
            "overflow_y": null,
            "padding": null,
            "right": null,
            "top": null,
            "visibility": null,
            "width": null
          }
        },
        "33b6ba6e215f4706be4178c970f1ffa0": {
          "model_module": "@jupyter-widgets/controls",
          "model_name": "DescriptionStyleModel",
          "model_module_version": "1.5.0",
          "state": {
            "_model_module": "@jupyter-widgets/controls",
            "_model_module_version": "1.5.0",
            "_model_name": "DescriptionStyleModel",
            "_view_count": null,
            "_view_module": "@jupyter-widgets/base",
            "_view_module_version": "1.2.0",
            "_view_name": "StyleView",
            "description_width": ""
          }
        },
        "dd0911aaacf0431daed69f2abefe6df9": {
          "model_module": "@jupyter-widgets/base",
          "model_name": "LayoutModel",
          "model_module_version": "1.2.0",
          "state": {
            "_model_module": "@jupyter-widgets/base",
            "_model_module_version": "1.2.0",
            "_model_name": "LayoutModel",
            "_view_count": null,
            "_view_module": "@jupyter-widgets/base",
            "_view_module_version": "1.2.0",
            "_view_name": "LayoutView",
            "align_content": null,
            "align_items": null,
            "align_self": null,
            "border": null,
            "bottom": null,
            "display": null,
            "flex": null,
            "flex_flow": null,
            "grid_area": null,
            "grid_auto_columns": null,
            "grid_auto_flow": null,
            "grid_auto_rows": null,
            "grid_column": null,
            "grid_gap": null,
            "grid_row": null,
            "grid_template_areas": null,
            "grid_template_columns": null,
            "grid_template_rows": null,
            "height": null,
            "justify_content": null,
            "justify_items": null,
            "left": null,
            "margin": null,
            "max_height": null,
            "max_width": null,
            "min_height": null,
            "min_width": null,
            "object_fit": null,
            "object_position": null,
            "order": null,
            "overflow": null,
            "overflow_x": null,
            "overflow_y": null,
            "padding": null,
            "right": null,
            "top": null,
            "visibility": null,
            "width": null
          }
        },
        "12fd21cca08b493a966280c9e050e03b": {
          "model_module": "@jupyter-widgets/controls",
          "model_name": "ProgressStyleModel",
          "model_module_version": "1.5.0",
          "state": {
            "_model_module": "@jupyter-widgets/controls",
            "_model_module_version": "1.5.0",
            "_model_name": "ProgressStyleModel",
            "_view_count": null,
            "_view_module": "@jupyter-widgets/base",
            "_view_module_version": "1.2.0",
            "_view_name": "StyleView",
            "bar_color": null,
            "description_width": ""
          }
        },
        "d83807a3477a40479bbd78cc1a789b2f": {
          "model_module": "@jupyter-widgets/base",
          "model_name": "LayoutModel",
          "model_module_version": "1.2.0",
          "state": {
            "_model_module": "@jupyter-widgets/base",
            "_model_module_version": "1.2.0",
            "_model_name": "LayoutModel",
            "_view_count": null,
            "_view_module": "@jupyter-widgets/base",
            "_view_module_version": "1.2.0",
            "_view_name": "LayoutView",
            "align_content": null,
            "align_items": null,
            "align_self": null,
            "border": null,
            "bottom": null,
            "display": null,
            "flex": null,
            "flex_flow": null,
            "grid_area": null,
            "grid_auto_columns": null,
            "grid_auto_flow": null,
            "grid_auto_rows": null,
            "grid_column": null,
            "grid_gap": null,
            "grid_row": null,
            "grid_template_areas": null,
            "grid_template_columns": null,
            "grid_template_rows": null,
            "height": null,
            "justify_content": null,
            "justify_items": null,
            "left": null,
            "margin": null,
            "max_height": null,
            "max_width": null,
            "min_height": null,
            "min_width": null,
            "object_fit": null,
            "object_position": null,
            "order": null,
            "overflow": null,
            "overflow_x": null,
            "overflow_y": null,
            "padding": null,
            "right": null,
            "top": null,
            "visibility": null,
            "width": null
          }
        },
        "dbe0eda87521404692b13460c16c53f1": {
          "model_module": "@jupyter-widgets/controls",
          "model_name": "DescriptionStyleModel",
          "model_module_version": "1.5.0",
          "state": {
            "_model_module": "@jupyter-widgets/controls",
            "_model_module_version": "1.5.0",
            "_model_name": "DescriptionStyleModel",
            "_view_count": null,
            "_view_module": "@jupyter-widgets/base",
            "_view_module_version": "1.2.0",
            "_view_name": "StyleView",
            "description_width": ""
          }
        },
        "5ba479e734974e19a3b4e2548feeb5ac": {
          "model_module": "@jupyter-widgets/controls",
          "model_name": "HBoxModel",
          "model_module_version": "1.5.0",
          "state": {
            "_dom_classes": [],
            "_model_module": "@jupyter-widgets/controls",
            "_model_module_version": "1.5.0",
            "_model_name": "HBoxModel",
            "_view_count": null,
            "_view_module": "@jupyter-widgets/controls",
            "_view_module_version": "1.5.0",
            "_view_name": "HBoxView",
            "box_style": "",
            "children": [
              "IPY_MODEL_6f1f152f7b1145ba95cab2aa35a0c009",
              "IPY_MODEL_ff3e9d484d784280be17aca59fdfb23a",
              "IPY_MODEL_1c8c344256fe458aa064d99f00046ca7"
            ],
            "layout": "IPY_MODEL_021eeb9b39404183b71f6e15c8f7d6e7"
          }
        },
        "6f1f152f7b1145ba95cab2aa35a0c009": {
          "model_module": "@jupyter-widgets/controls",
          "model_name": "HTMLModel",
          "model_module_version": "1.5.0",
          "state": {
            "_dom_classes": [],
            "_model_module": "@jupyter-widgets/controls",
            "_model_module_version": "1.5.0",
            "_model_name": "HTMLModel",
            "_view_count": null,
            "_view_module": "@jupyter-widgets/controls",
            "_view_module_version": "1.5.0",
            "_view_name": "HTMLView",
            "description": "",
            "description_tooltip": null,
            "layout": "IPY_MODEL_0373699f8c2546d1a293a80873e36790",
            "placeholder": "​",
            "style": "IPY_MODEL_5930dfc56f594bfc8d7510a0fe962c65",
            "value": "generation_config.json: 100%"
          }
        },
        "ff3e9d484d784280be17aca59fdfb23a": {
          "model_module": "@jupyter-widgets/controls",
          "model_name": "FloatProgressModel",
          "model_module_version": "1.5.0",
          "state": {
            "_dom_classes": [],
            "_model_module": "@jupyter-widgets/controls",
            "_model_module_version": "1.5.0",
            "_model_name": "FloatProgressModel",
            "_view_count": null,
            "_view_module": "@jupyter-widgets/controls",
            "_view_module_version": "1.5.0",
            "_view_name": "ProgressView",
            "bar_style": "success",
            "description": "",
            "description_tooltip": null,
            "layout": "IPY_MODEL_723995d51c18442483fb0f9c644a22a2",
            "max": 363,
            "min": 0,
            "orientation": "horizontal",
            "style": "IPY_MODEL_d712bfdb1c654b0a81007219e7832d15",
            "value": 363
          }
        },
        "1c8c344256fe458aa064d99f00046ca7": {
          "model_module": "@jupyter-widgets/controls",
          "model_name": "HTMLModel",
          "model_module_version": "1.5.0",
          "state": {
            "_dom_classes": [],
            "_model_module": "@jupyter-widgets/controls",
            "_model_module_version": "1.5.0",
            "_model_name": "HTMLModel",
            "_view_count": null,
            "_view_module": "@jupyter-widgets/controls",
            "_view_module_version": "1.5.0",
            "_view_name": "HTMLView",
            "description": "",
            "description_tooltip": null,
            "layout": "IPY_MODEL_f7d165c2ded84a40b9a3fde97e3f02fd",
            "placeholder": "​",
            "style": "IPY_MODEL_93c8adbb2cb34630b62f1b49b1a2ed79",
            "value": " 363/363 [00:00&lt;00:00, 27.1kB/s]"
          }
        },
        "021eeb9b39404183b71f6e15c8f7d6e7": {
          "model_module": "@jupyter-widgets/base",
          "model_name": "LayoutModel",
          "model_module_version": "1.2.0",
          "state": {
            "_model_module": "@jupyter-widgets/base",
            "_model_module_version": "1.2.0",
            "_model_name": "LayoutModel",
            "_view_count": null,
            "_view_module": "@jupyter-widgets/base",
            "_view_module_version": "1.2.0",
            "_view_name": "LayoutView",
            "align_content": null,
            "align_items": null,
            "align_self": null,
            "border": null,
            "bottom": null,
            "display": null,
            "flex": null,
            "flex_flow": null,
            "grid_area": null,
            "grid_auto_columns": null,
            "grid_auto_flow": null,
            "grid_auto_rows": null,
            "grid_column": null,
            "grid_gap": null,
            "grid_row": null,
            "grid_template_areas": null,
            "grid_template_columns": null,
            "grid_template_rows": null,
            "height": null,
            "justify_content": null,
            "justify_items": null,
            "left": null,
            "margin": null,
            "max_height": null,
            "max_width": null,
            "min_height": null,
            "min_width": null,
            "object_fit": null,
            "object_position": null,
            "order": null,
            "overflow": null,
            "overflow_x": null,
            "overflow_y": null,
            "padding": null,
            "right": null,
            "top": null,
            "visibility": null,
            "width": null
          }
        },
        "0373699f8c2546d1a293a80873e36790": {
          "model_module": "@jupyter-widgets/base",
          "model_name": "LayoutModel",
          "model_module_version": "1.2.0",
          "state": {
            "_model_module": "@jupyter-widgets/base",
            "_model_module_version": "1.2.0",
            "_model_name": "LayoutModel",
            "_view_count": null,
            "_view_module": "@jupyter-widgets/base",
            "_view_module_version": "1.2.0",
            "_view_name": "LayoutView",
            "align_content": null,
            "align_items": null,
            "align_self": null,
            "border": null,
            "bottom": null,
            "display": null,
            "flex": null,
            "flex_flow": null,
            "grid_area": null,
            "grid_auto_columns": null,
            "grid_auto_flow": null,
            "grid_auto_rows": null,
            "grid_column": null,
            "grid_gap": null,
            "grid_row": null,
            "grid_template_areas": null,
            "grid_template_columns": null,
            "grid_template_rows": null,
            "height": null,
            "justify_content": null,
            "justify_items": null,
            "left": null,
            "margin": null,
            "max_height": null,
            "max_width": null,
            "min_height": null,
            "min_width": null,
            "object_fit": null,
            "object_position": null,
            "order": null,
            "overflow": null,
            "overflow_x": null,
            "overflow_y": null,
            "padding": null,
            "right": null,
            "top": null,
            "visibility": null,
            "width": null
          }
        },
        "5930dfc56f594bfc8d7510a0fe962c65": {
          "model_module": "@jupyter-widgets/controls",
          "model_name": "DescriptionStyleModel",
          "model_module_version": "1.5.0",
          "state": {
            "_model_module": "@jupyter-widgets/controls",
            "_model_module_version": "1.5.0",
            "_model_name": "DescriptionStyleModel",
            "_view_count": null,
            "_view_module": "@jupyter-widgets/base",
            "_view_module_version": "1.2.0",
            "_view_name": "StyleView",
            "description_width": ""
          }
        },
        "723995d51c18442483fb0f9c644a22a2": {
          "model_module": "@jupyter-widgets/base",
          "model_name": "LayoutModel",
          "model_module_version": "1.2.0",
          "state": {
            "_model_module": "@jupyter-widgets/base",
            "_model_module_version": "1.2.0",
            "_model_name": "LayoutModel",
            "_view_count": null,
            "_view_module": "@jupyter-widgets/base",
            "_view_module_version": "1.2.0",
            "_view_name": "LayoutView",
            "align_content": null,
            "align_items": null,
            "align_self": null,
            "border": null,
            "bottom": null,
            "display": null,
            "flex": null,
            "flex_flow": null,
            "grid_area": null,
            "grid_auto_columns": null,
            "grid_auto_flow": null,
            "grid_auto_rows": null,
            "grid_column": null,
            "grid_gap": null,
            "grid_row": null,
            "grid_template_areas": null,
            "grid_template_columns": null,
            "grid_template_rows": null,
            "height": null,
            "justify_content": null,
            "justify_items": null,
            "left": null,
            "margin": null,
            "max_height": null,
            "max_width": null,
            "min_height": null,
            "min_width": null,
            "object_fit": null,
            "object_position": null,
            "order": null,
            "overflow": null,
            "overflow_x": null,
            "overflow_y": null,
            "padding": null,
            "right": null,
            "top": null,
            "visibility": null,
            "width": null
          }
        },
        "d712bfdb1c654b0a81007219e7832d15": {
          "model_module": "@jupyter-widgets/controls",
          "model_name": "ProgressStyleModel",
          "model_module_version": "1.5.0",
          "state": {
            "_model_module": "@jupyter-widgets/controls",
            "_model_module_version": "1.5.0",
            "_model_name": "ProgressStyleModel",
            "_view_count": null,
            "_view_module": "@jupyter-widgets/base",
            "_view_module_version": "1.2.0",
            "_view_name": "StyleView",
            "bar_color": null,
            "description_width": ""
          }
        },
        "f7d165c2ded84a40b9a3fde97e3f02fd": {
          "model_module": "@jupyter-widgets/base",
          "model_name": "LayoutModel",
          "model_module_version": "1.2.0",
          "state": {
            "_model_module": "@jupyter-widgets/base",
            "_model_module_version": "1.2.0",
            "_model_name": "LayoutModel",
            "_view_count": null,
            "_view_module": "@jupyter-widgets/base",
            "_view_module_version": "1.2.0",
            "_view_name": "LayoutView",
            "align_content": null,
            "align_items": null,
            "align_self": null,
            "border": null,
            "bottom": null,
            "display": null,
            "flex": null,
            "flex_flow": null,
            "grid_area": null,
            "grid_auto_columns": null,
            "grid_auto_flow": null,
            "grid_auto_rows": null,
            "grid_column": null,
            "grid_gap": null,
            "grid_row": null,
            "grid_template_areas": null,
            "grid_template_columns": null,
            "grid_template_rows": null,
            "height": null,
            "justify_content": null,
            "justify_items": null,
            "left": null,
            "margin": null,
            "max_height": null,
            "max_width": null,
            "min_height": null,
            "min_width": null,
            "object_fit": null,
            "object_position": null,
            "order": null,
            "overflow": null,
            "overflow_x": null,
            "overflow_y": null,
            "padding": null,
            "right": null,
            "top": null,
            "visibility": null,
            "width": null
          }
        },
        "93c8adbb2cb34630b62f1b49b1a2ed79": {
          "model_module": "@jupyter-widgets/controls",
          "model_name": "DescriptionStyleModel",
          "model_module_version": "1.5.0",
          "state": {
            "_model_module": "@jupyter-widgets/controls",
            "_model_module_version": "1.5.0",
            "_model_name": "DescriptionStyleModel",
            "_view_count": null,
            "_view_module": "@jupyter-widgets/base",
            "_view_module_version": "1.2.0",
            "_view_name": "StyleView",
            "description_width": ""
          }
        },
        "72e43f242c524bd4a1178228efe63d28": {
          "model_module": "@jupyter-widgets/controls",
          "model_name": "HBoxModel",
          "model_module_version": "1.5.0",
          "state": {
            "_dom_classes": [],
            "_model_module": "@jupyter-widgets/controls",
            "_model_module_version": "1.5.0",
            "_model_name": "HBoxModel",
            "_view_count": null,
            "_view_module": "@jupyter-widgets/controls",
            "_view_module_version": "1.5.0",
            "_view_name": "HBoxView",
            "box_style": "",
            "children": [
              "IPY_MODEL_9bdf70be31de43a29aff6824cb309cec",
              "IPY_MODEL_8d4b5d8d32024ff0bf5aa566b37242ca",
              "IPY_MODEL_b150c20670d94c619a47c111e9bd1264"
            ],
            "layout": "IPY_MODEL_f4007872028744689311e757be26ba3f"
          }
        },
        "9bdf70be31de43a29aff6824cb309cec": {
          "model_module": "@jupyter-widgets/controls",
          "model_name": "HTMLModel",
          "model_module_version": "1.5.0",
          "state": {
            "_dom_classes": [],
            "_model_module": "@jupyter-widgets/controls",
            "_model_module_version": "1.5.0",
            "_model_name": "HTMLModel",
            "_view_count": null,
            "_view_module": "@jupyter-widgets/controls",
            "_view_module_version": "1.5.0",
            "_view_name": "HTMLView",
            "description": "",
            "description_tooltip": null,
            "layout": "IPY_MODEL_8d566c87054c406d84998970c3f34655",
            "placeholder": "​",
            "style": "IPY_MODEL_2c1fd9b7d71f45bc91461f2ccb35a606",
            "value": "vocab.json: 100%"
          }
        },
        "8d4b5d8d32024ff0bf5aa566b37242ca": {
          "model_module": "@jupyter-widgets/controls",
          "model_name": "FloatProgressModel",
          "model_module_version": "1.5.0",
          "state": {
            "_dom_classes": [],
            "_model_module": "@jupyter-widgets/controls",
            "_model_module_version": "1.5.0",
            "_model_name": "FloatProgressModel",
            "_view_count": null,
            "_view_module": "@jupyter-widgets/controls",
            "_view_module_version": "1.5.0",
            "_view_name": "ProgressView",
            "bar_style": "success",
            "description": "",
            "description_tooltip": null,
            "layout": "IPY_MODEL_f33b334f76334d3ba8de8d8c55af59ba",
            "max": 898823,
            "min": 0,
            "orientation": "horizontal",
            "style": "IPY_MODEL_9651c94f49794e5ca6b80bdb8159bd57",
            "value": 898823
          }
        },
        "b150c20670d94c619a47c111e9bd1264": {
          "model_module": "@jupyter-widgets/controls",
          "model_name": "HTMLModel",
          "model_module_version": "1.5.0",
          "state": {
            "_dom_classes": [],
            "_model_module": "@jupyter-widgets/controls",
            "_model_module_version": "1.5.0",
            "_model_name": "HTMLModel",
            "_view_count": null,
            "_view_module": "@jupyter-widgets/controls",
            "_view_module_version": "1.5.0",
            "_view_name": "HTMLView",
            "description": "",
            "description_tooltip": null,
            "layout": "IPY_MODEL_b2b796070f0e44068b7ac1667c1872f0",
            "placeholder": "​",
            "style": "IPY_MODEL_ee7a2841583e4af2ae6c2b8ab5a768ca",
            "value": " 899k/899k [00:02&lt;00:00, 386kB/s]"
          }
        },
        "f4007872028744689311e757be26ba3f": {
          "model_module": "@jupyter-widgets/base",
          "model_name": "LayoutModel",
          "model_module_version": "1.2.0",
          "state": {
            "_model_module": "@jupyter-widgets/base",
            "_model_module_version": "1.2.0",
            "_model_name": "LayoutModel",
            "_view_count": null,
            "_view_module": "@jupyter-widgets/base",
            "_view_module_version": "1.2.0",
            "_view_name": "LayoutView",
            "align_content": null,
            "align_items": null,
            "align_self": null,
            "border": null,
            "bottom": null,
            "display": null,
            "flex": null,
            "flex_flow": null,
            "grid_area": null,
            "grid_auto_columns": null,
            "grid_auto_flow": null,
            "grid_auto_rows": null,
            "grid_column": null,
            "grid_gap": null,
            "grid_row": null,
            "grid_template_areas": null,
            "grid_template_columns": null,
            "grid_template_rows": null,
            "height": null,
            "justify_content": null,
            "justify_items": null,
            "left": null,
            "margin": null,
            "max_height": null,
            "max_width": null,
            "min_height": null,
            "min_width": null,
            "object_fit": null,
            "object_position": null,
            "order": null,
            "overflow": null,
            "overflow_x": null,
            "overflow_y": null,
            "padding": null,
            "right": null,
            "top": null,
            "visibility": null,
            "width": null
          }
        },
        "8d566c87054c406d84998970c3f34655": {
          "model_module": "@jupyter-widgets/base",
          "model_name": "LayoutModel",
          "model_module_version": "1.2.0",
          "state": {
            "_model_module": "@jupyter-widgets/base",
            "_model_module_version": "1.2.0",
            "_model_name": "LayoutModel",
            "_view_count": null,
            "_view_module": "@jupyter-widgets/base",
            "_view_module_version": "1.2.0",
            "_view_name": "LayoutView",
            "align_content": null,
            "align_items": null,
            "align_self": null,
            "border": null,
            "bottom": null,
            "display": null,
            "flex": null,
            "flex_flow": null,
            "grid_area": null,
            "grid_auto_columns": null,
            "grid_auto_flow": null,
            "grid_auto_rows": null,
            "grid_column": null,
            "grid_gap": null,
            "grid_row": null,
            "grid_template_areas": null,
            "grid_template_columns": null,
            "grid_template_rows": null,
            "height": null,
            "justify_content": null,
            "justify_items": null,
            "left": null,
            "margin": null,
            "max_height": null,
            "max_width": null,
            "min_height": null,
            "min_width": null,
            "object_fit": null,
            "object_position": null,
            "order": null,
            "overflow": null,
            "overflow_x": null,
            "overflow_y": null,
            "padding": null,
            "right": null,
            "top": null,
            "visibility": null,
            "width": null
          }
        },
        "2c1fd9b7d71f45bc91461f2ccb35a606": {
          "model_module": "@jupyter-widgets/controls",
          "model_name": "DescriptionStyleModel",
          "model_module_version": "1.5.0",
          "state": {
            "_model_module": "@jupyter-widgets/controls",
            "_model_module_version": "1.5.0",
            "_model_name": "DescriptionStyleModel",
            "_view_count": null,
            "_view_module": "@jupyter-widgets/base",
            "_view_module_version": "1.2.0",
            "_view_name": "StyleView",
            "description_width": ""
          }
        },
        "f33b334f76334d3ba8de8d8c55af59ba": {
          "model_module": "@jupyter-widgets/base",
          "model_name": "LayoutModel",
          "model_module_version": "1.2.0",
          "state": {
            "_model_module": "@jupyter-widgets/base",
            "_model_module_version": "1.2.0",
            "_model_name": "LayoutModel",
            "_view_count": null,
            "_view_module": "@jupyter-widgets/base",
            "_view_module_version": "1.2.0",
            "_view_name": "LayoutView",
            "align_content": null,
            "align_items": null,
            "align_self": null,
            "border": null,
            "bottom": null,
            "display": null,
            "flex": null,
            "flex_flow": null,
            "grid_area": null,
            "grid_auto_columns": null,
            "grid_auto_flow": null,
            "grid_auto_rows": null,
            "grid_column": null,
            "grid_gap": null,
            "grid_row": null,
            "grid_template_areas": null,
            "grid_template_columns": null,
            "grid_template_rows": null,
            "height": null,
            "justify_content": null,
            "justify_items": null,
            "left": null,
            "margin": null,
            "max_height": null,
            "max_width": null,
            "min_height": null,
            "min_width": null,
            "object_fit": null,
            "object_position": null,
            "order": null,
            "overflow": null,
            "overflow_x": null,
            "overflow_y": null,
            "padding": null,
            "right": null,
            "top": null,
            "visibility": null,
            "width": null
          }
        },
        "9651c94f49794e5ca6b80bdb8159bd57": {
          "model_module": "@jupyter-widgets/controls",
          "model_name": "ProgressStyleModel",
          "model_module_version": "1.5.0",
          "state": {
            "_model_module": "@jupyter-widgets/controls",
            "_model_module_version": "1.5.0",
            "_model_name": "ProgressStyleModel",
            "_view_count": null,
            "_view_module": "@jupyter-widgets/base",
            "_view_module_version": "1.2.0",
            "_view_name": "StyleView",
            "bar_color": null,
            "description_width": ""
          }
        },
        "b2b796070f0e44068b7ac1667c1872f0": {
          "model_module": "@jupyter-widgets/base",
          "model_name": "LayoutModel",
          "model_module_version": "1.2.0",
          "state": {
            "_model_module": "@jupyter-widgets/base",
            "_model_module_version": "1.2.0",
            "_model_name": "LayoutModel",
            "_view_count": null,
            "_view_module": "@jupyter-widgets/base",
            "_view_module_version": "1.2.0",
            "_view_name": "LayoutView",
            "align_content": null,
            "align_items": null,
            "align_self": null,
            "border": null,
            "bottom": null,
            "display": null,
            "flex": null,
            "flex_flow": null,
            "grid_area": null,
            "grid_auto_columns": null,
            "grid_auto_flow": null,
            "grid_auto_rows": null,
            "grid_column": null,
            "grid_gap": null,
            "grid_row": null,
            "grid_template_areas": null,
            "grid_template_columns": null,
            "grid_template_rows": null,
            "height": null,
            "justify_content": null,
            "justify_items": null,
            "left": null,
            "margin": null,
            "max_height": null,
            "max_width": null,
            "min_height": null,
            "min_width": null,
            "object_fit": null,
            "object_position": null,
            "order": null,
            "overflow": null,
            "overflow_x": null,
            "overflow_y": null,
            "padding": null,
            "right": null,
            "top": null,
            "visibility": null,
            "width": null
          }
        },
        "ee7a2841583e4af2ae6c2b8ab5a768ca": {
          "model_module": "@jupyter-widgets/controls",
          "model_name": "DescriptionStyleModel",
          "model_module_version": "1.5.0",
          "state": {
            "_model_module": "@jupyter-widgets/controls",
            "_model_module_version": "1.5.0",
            "_model_name": "DescriptionStyleModel",
            "_view_count": null,
            "_view_module": "@jupyter-widgets/base",
            "_view_module_version": "1.2.0",
            "_view_name": "StyleView",
            "description_width": ""
          }
        },
        "9a1c0294e78c4ce685215a583a561eba": {
          "model_module": "@jupyter-widgets/controls",
          "model_name": "HBoxModel",
          "model_module_version": "1.5.0",
          "state": {
            "_dom_classes": [],
            "_model_module": "@jupyter-widgets/controls",
            "_model_module_version": "1.5.0",
            "_model_name": "HBoxModel",
            "_view_count": null,
            "_view_module": "@jupyter-widgets/controls",
            "_view_module_version": "1.5.0",
            "_view_name": "HBoxView",
            "box_style": "",
            "children": [
              "IPY_MODEL_cea5b577323d4feabcd3b722b916387c",
              "IPY_MODEL_6896ecf35aa447d6b639a18040542abd",
              "IPY_MODEL_d9551d98063a468195fb9755cb8d6be9"
            ],
            "layout": "IPY_MODEL_19bbedffe3e744098e53fc43fc539921"
          }
        },
        "cea5b577323d4feabcd3b722b916387c": {
          "model_module": "@jupyter-widgets/controls",
          "model_name": "HTMLModel",
          "model_module_version": "1.5.0",
          "state": {
            "_dom_classes": [],
            "_model_module": "@jupyter-widgets/controls",
            "_model_module_version": "1.5.0",
            "_model_name": "HTMLModel",
            "_view_count": null,
            "_view_module": "@jupyter-widgets/controls",
            "_view_module_version": "1.5.0",
            "_view_name": "HTMLView",
            "description": "",
            "description_tooltip": null,
            "layout": "IPY_MODEL_dcf154e8cdd948bcb119c4a7d98e1f35",
            "placeholder": "​",
            "style": "IPY_MODEL_b52387ac170246ecb7e606d78ead6c0b",
            "value": "merges.txt: 100%"
          }
        },
        "6896ecf35aa447d6b639a18040542abd": {
          "model_module": "@jupyter-widgets/controls",
          "model_name": "FloatProgressModel",
          "model_module_version": "1.5.0",
          "state": {
            "_dom_classes": [],
            "_model_module": "@jupyter-widgets/controls",
            "_model_module_version": "1.5.0",
            "_model_name": "FloatProgressModel",
            "_view_count": null,
            "_view_module": "@jupyter-widgets/controls",
            "_view_module_version": "1.5.0",
            "_view_name": "ProgressView",
            "bar_style": "success",
            "description": "",
            "description_tooltip": null,
            "layout": "IPY_MODEL_add1525e45ce4db0b88c1a97b9fcea69",
            "max": 456318,
            "min": 0,
            "orientation": "horizontal",
            "style": "IPY_MODEL_64f39e2dad36417eb3dddd3407145066",
            "value": 456318
          }
        },
        "d9551d98063a468195fb9755cb8d6be9": {
          "model_module": "@jupyter-widgets/controls",
          "model_name": "HTMLModel",
          "model_module_version": "1.5.0",
          "state": {
            "_dom_classes": [],
            "_model_module": "@jupyter-widgets/controls",
            "_model_module_version": "1.5.0",
            "_model_name": "HTMLModel",
            "_view_count": null,
            "_view_module": "@jupyter-widgets/controls",
            "_view_module_version": "1.5.0",
            "_view_name": "HTMLView",
            "description": "",
            "description_tooltip": null,
            "layout": "IPY_MODEL_747e78f217b14e68a031fca5b1372d7f",
            "placeholder": "​",
            "style": "IPY_MODEL_98cce19152e745c2b3b6537384353be3",
            "value": " 456k/456k [00:00&lt;00:00, 6.64MB/s]"
          }
        },
        "19bbedffe3e744098e53fc43fc539921": {
          "model_module": "@jupyter-widgets/base",
          "model_name": "LayoutModel",
          "model_module_version": "1.2.0",
          "state": {
            "_model_module": "@jupyter-widgets/base",
            "_model_module_version": "1.2.0",
            "_model_name": "LayoutModel",
            "_view_count": null,
            "_view_module": "@jupyter-widgets/base",
            "_view_module_version": "1.2.0",
            "_view_name": "LayoutView",
            "align_content": null,
            "align_items": null,
            "align_self": null,
            "border": null,
            "bottom": null,
            "display": null,
            "flex": null,
            "flex_flow": null,
            "grid_area": null,
            "grid_auto_columns": null,
            "grid_auto_flow": null,
            "grid_auto_rows": null,
            "grid_column": null,
            "grid_gap": null,
            "grid_row": null,
            "grid_template_areas": null,
            "grid_template_columns": null,
            "grid_template_rows": null,
            "height": null,
            "justify_content": null,
            "justify_items": null,
            "left": null,
            "margin": null,
            "max_height": null,
            "max_width": null,
            "min_height": null,
            "min_width": null,
            "object_fit": null,
            "object_position": null,
            "order": null,
            "overflow": null,
            "overflow_x": null,
            "overflow_y": null,
            "padding": null,
            "right": null,
            "top": null,
            "visibility": null,
            "width": null
          }
        },
        "dcf154e8cdd948bcb119c4a7d98e1f35": {
          "model_module": "@jupyter-widgets/base",
          "model_name": "LayoutModel",
          "model_module_version": "1.2.0",
          "state": {
            "_model_module": "@jupyter-widgets/base",
            "_model_module_version": "1.2.0",
            "_model_name": "LayoutModel",
            "_view_count": null,
            "_view_module": "@jupyter-widgets/base",
            "_view_module_version": "1.2.0",
            "_view_name": "LayoutView",
            "align_content": null,
            "align_items": null,
            "align_self": null,
            "border": null,
            "bottom": null,
            "display": null,
            "flex": null,
            "flex_flow": null,
            "grid_area": null,
            "grid_auto_columns": null,
            "grid_auto_flow": null,
            "grid_auto_rows": null,
            "grid_column": null,
            "grid_gap": null,
            "grid_row": null,
            "grid_template_areas": null,
            "grid_template_columns": null,
            "grid_template_rows": null,
            "height": null,
            "justify_content": null,
            "justify_items": null,
            "left": null,
            "margin": null,
            "max_height": null,
            "max_width": null,
            "min_height": null,
            "min_width": null,
            "object_fit": null,
            "object_position": null,
            "order": null,
            "overflow": null,
            "overflow_x": null,
            "overflow_y": null,
            "padding": null,
            "right": null,
            "top": null,
            "visibility": null,
            "width": null
          }
        },
        "b52387ac170246ecb7e606d78ead6c0b": {
          "model_module": "@jupyter-widgets/controls",
          "model_name": "DescriptionStyleModel",
          "model_module_version": "1.5.0",
          "state": {
            "_model_module": "@jupyter-widgets/controls",
            "_model_module_version": "1.5.0",
            "_model_name": "DescriptionStyleModel",
            "_view_count": null,
            "_view_module": "@jupyter-widgets/base",
            "_view_module_version": "1.2.0",
            "_view_name": "StyleView",
            "description_width": ""
          }
        },
        "add1525e45ce4db0b88c1a97b9fcea69": {
          "model_module": "@jupyter-widgets/base",
          "model_name": "LayoutModel",
          "model_module_version": "1.2.0",
          "state": {
            "_model_module": "@jupyter-widgets/base",
            "_model_module_version": "1.2.0",
            "_model_name": "LayoutModel",
            "_view_count": null,
            "_view_module": "@jupyter-widgets/base",
            "_view_module_version": "1.2.0",
            "_view_name": "LayoutView",
            "align_content": null,
            "align_items": null,
            "align_self": null,
            "border": null,
            "bottom": null,
            "display": null,
            "flex": null,
            "flex_flow": null,
            "grid_area": null,
            "grid_auto_columns": null,
            "grid_auto_flow": null,
            "grid_auto_rows": null,
            "grid_column": null,
            "grid_gap": null,
            "grid_row": null,
            "grid_template_areas": null,
            "grid_template_columns": null,
            "grid_template_rows": null,
            "height": null,
            "justify_content": null,
            "justify_items": null,
            "left": null,
            "margin": null,
            "max_height": null,
            "max_width": null,
            "min_height": null,
            "min_width": null,
            "object_fit": null,
            "object_position": null,
            "order": null,
            "overflow": null,
            "overflow_x": null,
            "overflow_y": null,
            "padding": null,
            "right": null,
            "top": null,
            "visibility": null,
            "width": null
          }
        },
        "64f39e2dad36417eb3dddd3407145066": {
          "model_module": "@jupyter-widgets/controls",
          "model_name": "ProgressStyleModel",
          "model_module_version": "1.5.0",
          "state": {
            "_model_module": "@jupyter-widgets/controls",
            "_model_module_version": "1.5.0",
            "_model_name": "ProgressStyleModel",
            "_view_count": null,
            "_view_module": "@jupyter-widgets/base",
            "_view_module_version": "1.2.0",
            "_view_name": "StyleView",
            "bar_color": null,
            "description_width": ""
          }
        },
        "747e78f217b14e68a031fca5b1372d7f": {
          "model_module": "@jupyter-widgets/base",
          "model_name": "LayoutModel",
          "model_module_version": "1.2.0",
          "state": {
            "_model_module": "@jupyter-widgets/base",
            "_model_module_version": "1.2.0",
            "_model_name": "LayoutModel",
            "_view_count": null,
            "_view_module": "@jupyter-widgets/base",
            "_view_module_version": "1.2.0",
            "_view_name": "LayoutView",
            "align_content": null,
            "align_items": null,
            "align_self": null,
            "border": null,
            "bottom": null,
            "display": null,
            "flex": null,
            "flex_flow": null,
            "grid_area": null,
            "grid_auto_columns": null,
            "grid_auto_flow": null,
            "grid_auto_rows": null,
            "grid_column": null,
            "grid_gap": null,
            "grid_row": null,
            "grid_template_areas": null,
            "grid_template_columns": null,
            "grid_template_rows": null,
            "height": null,
            "justify_content": null,
            "justify_items": null,
            "left": null,
            "margin": null,
            "max_height": null,
            "max_width": null,
            "min_height": null,
            "min_width": null,
            "object_fit": null,
            "object_position": null,
            "order": null,
            "overflow": null,
            "overflow_x": null,
            "overflow_y": null,
            "padding": null,
            "right": null,
            "top": null,
            "visibility": null,
            "width": null
          }
        },
        "98cce19152e745c2b3b6537384353be3": {
          "model_module": "@jupyter-widgets/controls",
          "model_name": "DescriptionStyleModel",
          "model_module_version": "1.5.0",
          "state": {
            "_model_module": "@jupyter-widgets/controls",
            "_model_module_version": "1.5.0",
            "_model_name": "DescriptionStyleModel",
            "_view_count": null,
            "_view_module": "@jupyter-widgets/base",
            "_view_module_version": "1.2.0",
            "_view_name": "StyleView",
            "description_width": ""
          }
        },
        "ec78cbd4d91d419284d79f8d10b8b9a4": {
          "model_module": "@jupyter-widgets/controls",
          "model_name": "HBoxModel",
          "model_module_version": "1.5.0",
          "state": {
            "_dom_classes": [],
            "_model_module": "@jupyter-widgets/controls",
            "_model_module_version": "1.5.0",
            "_model_name": "HBoxModel",
            "_view_count": null,
            "_view_module": "@jupyter-widgets/controls",
            "_view_module_version": "1.5.0",
            "_view_name": "HBoxView",
            "box_style": "",
            "children": [
              "IPY_MODEL_e8cf3729726d442a9de0e73ca333060e",
              "IPY_MODEL_0c5befeaa1d14d13a2d8256b80671bce",
              "IPY_MODEL_0b591f28a9014c56b10bbc531b0da68c"
            ],
            "layout": "IPY_MODEL_ff576f53494b4dfb9729c76db8a3d283"
          }
        },
        "e8cf3729726d442a9de0e73ca333060e": {
          "model_module": "@jupyter-widgets/controls",
          "model_name": "HTMLModel",
          "model_module_version": "1.5.0",
          "state": {
            "_dom_classes": [],
            "_model_module": "@jupyter-widgets/controls",
            "_model_module_version": "1.5.0",
            "_model_name": "HTMLModel",
            "_view_count": null,
            "_view_module": "@jupyter-widgets/controls",
            "_view_module_version": "1.5.0",
            "_view_name": "HTMLView",
            "description": "",
            "description_tooltip": null,
            "layout": "IPY_MODEL_c969f63614854b89a62bbd3d3cf16a6c",
            "placeholder": "​",
            "style": "IPY_MODEL_56db991073574dbd94caf9cb30d6846e",
            "value": "tokenizer.json: 100%"
          }
        },
        "0c5befeaa1d14d13a2d8256b80671bce": {
          "model_module": "@jupyter-widgets/controls",
          "model_name": "FloatProgressModel",
          "model_module_version": "1.5.0",
          "state": {
            "_dom_classes": [],
            "_model_module": "@jupyter-widgets/controls",
            "_model_module_version": "1.5.0",
            "_model_name": "FloatProgressModel",
            "_view_count": null,
            "_view_module": "@jupyter-widgets/controls",
            "_view_module_version": "1.5.0",
            "_view_name": "ProgressView",
            "bar_style": "success",
            "description": "",
            "description_tooltip": null,
            "layout": "IPY_MODEL_2cc96a787e2840dbbb56d26c27736246",
            "max": 1355863,
            "min": 0,
            "orientation": "horizontal",
            "style": "IPY_MODEL_171ca9012aa7443bb241d59827678259",
            "value": 1355863
          }
        },
        "0b591f28a9014c56b10bbc531b0da68c": {
          "model_module": "@jupyter-widgets/controls",
          "model_name": "HTMLModel",
          "model_module_version": "1.5.0",
          "state": {
            "_dom_classes": [],
            "_model_module": "@jupyter-widgets/controls",
            "_model_module_version": "1.5.0",
            "_model_name": "HTMLModel",
            "_view_count": null,
            "_view_module": "@jupyter-widgets/controls",
            "_view_module_version": "1.5.0",
            "_view_name": "HTMLView",
            "description": "",
            "description_tooltip": null,
            "layout": "IPY_MODEL_0b1f506d3c1148c0a00a9cacd3f87a6b",
            "placeholder": "​",
            "style": "IPY_MODEL_7f49f8055c7c407cbfa9661f8e3eab21",
            "value": " 1.36M/1.36M [00:00&lt;00:00, 3.49MB/s]"
          }
        },
        "ff576f53494b4dfb9729c76db8a3d283": {
          "model_module": "@jupyter-widgets/base",
          "model_name": "LayoutModel",
          "model_module_version": "1.2.0",
          "state": {
            "_model_module": "@jupyter-widgets/base",
            "_model_module_version": "1.2.0",
            "_model_name": "LayoutModel",
            "_view_count": null,
            "_view_module": "@jupyter-widgets/base",
            "_view_module_version": "1.2.0",
            "_view_name": "LayoutView",
            "align_content": null,
            "align_items": null,
            "align_self": null,
            "border": null,
            "bottom": null,
            "display": null,
            "flex": null,
            "flex_flow": null,
            "grid_area": null,
            "grid_auto_columns": null,
            "grid_auto_flow": null,
            "grid_auto_rows": null,
            "grid_column": null,
            "grid_gap": null,
            "grid_row": null,
            "grid_template_areas": null,
            "grid_template_columns": null,
            "grid_template_rows": null,
            "height": null,
            "justify_content": null,
            "justify_items": null,
            "left": null,
            "margin": null,
            "max_height": null,
            "max_width": null,
            "min_height": null,
            "min_width": null,
            "object_fit": null,
            "object_position": null,
            "order": null,
            "overflow": null,
            "overflow_x": null,
            "overflow_y": null,
            "padding": null,
            "right": null,
            "top": null,
            "visibility": null,
            "width": null
          }
        },
        "c969f63614854b89a62bbd3d3cf16a6c": {
          "model_module": "@jupyter-widgets/base",
          "model_name": "LayoutModel",
          "model_module_version": "1.2.0",
          "state": {
            "_model_module": "@jupyter-widgets/base",
            "_model_module_version": "1.2.0",
            "_model_name": "LayoutModel",
            "_view_count": null,
            "_view_module": "@jupyter-widgets/base",
            "_view_module_version": "1.2.0",
            "_view_name": "LayoutView",
            "align_content": null,
            "align_items": null,
            "align_self": null,
            "border": null,
            "bottom": null,
            "display": null,
            "flex": null,
            "flex_flow": null,
            "grid_area": null,
            "grid_auto_columns": null,
            "grid_auto_flow": null,
            "grid_auto_rows": null,
            "grid_column": null,
            "grid_gap": null,
            "grid_row": null,
            "grid_template_areas": null,
            "grid_template_columns": null,
            "grid_template_rows": null,
            "height": null,
            "justify_content": null,
            "justify_items": null,
            "left": null,
            "margin": null,
            "max_height": null,
            "max_width": null,
            "min_height": null,
            "min_width": null,
            "object_fit": null,
            "object_position": null,
            "order": null,
            "overflow": null,
            "overflow_x": null,
            "overflow_y": null,
            "padding": null,
            "right": null,
            "top": null,
            "visibility": null,
            "width": null
          }
        },
        "56db991073574dbd94caf9cb30d6846e": {
          "model_module": "@jupyter-widgets/controls",
          "model_name": "DescriptionStyleModel",
          "model_module_version": "1.5.0",
          "state": {
            "_model_module": "@jupyter-widgets/controls",
            "_model_module_version": "1.5.0",
            "_model_name": "DescriptionStyleModel",
            "_view_count": null,
            "_view_module": "@jupyter-widgets/base",
            "_view_module_version": "1.2.0",
            "_view_name": "StyleView",
            "description_width": ""
          }
        },
        "2cc96a787e2840dbbb56d26c27736246": {
          "model_module": "@jupyter-widgets/base",
          "model_name": "LayoutModel",
          "model_module_version": "1.2.0",
          "state": {
            "_model_module": "@jupyter-widgets/base",
            "_model_module_version": "1.2.0",
            "_model_name": "LayoutModel",
            "_view_count": null,
            "_view_module": "@jupyter-widgets/base",
            "_view_module_version": "1.2.0",
            "_view_name": "LayoutView",
            "align_content": null,
            "align_items": null,
            "align_self": null,
            "border": null,
            "bottom": null,
            "display": null,
            "flex": null,
            "flex_flow": null,
            "grid_area": null,
            "grid_auto_columns": null,
            "grid_auto_flow": null,
            "grid_auto_rows": null,
            "grid_column": null,
            "grid_gap": null,
            "grid_row": null,
            "grid_template_areas": null,
            "grid_template_columns": null,
            "grid_template_rows": null,
            "height": null,
            "justify_content": null,
            "justify_items": null,
            "left": null,
            "margin": null,
            "max_height": null,
            "max_width": null,
            "min_height": null,
            "min_width": null,
            "object_fit": null,
            "object_position": null,
            "order": null,
            "overflow": null,
            "overflow_x": null,
            "overflow_y": null,
            "padding": null,
            "right": null,
            "top": null,
            "visibility": null,
            "width": null
          }
        },
        "171ca9012aa7443bb241d59827678259": {
          "model_module": "@jupyter-widgets/controls",
          "model_name": "ProgressStyleModel",
          "model_module_version": "1.5.0",
          "state": {
            "_model_module": "@jupyter-widgets/controls",
            "_model_module_version": "1.5.0",
            "_model_name": "ProgressStyleModel",
            "_view_count": null,
            "_view_module": "@jupyter-widgets/base",
            "_view_module_version": "1.2.0",
            "_view_name": "StyleView",
            "bar_color": null,
            "description_width": ""
          }
        },
        "0b1f506d3c1148c0a00a9cacd3f87a6b": {
          "model_module": "@jupyter-widgets/base",
          "model_name": "LayoutModel",
          "model_module_version": "1.2.0",
          "state": {
            "_model_module": "@jupyter-widgets/base",
            "_model_module_version": "1.2.0",
            "_model_name": "LayoutModel",
            "_view_count": null,
            "_view_module": "@jupyter-widgets/base",
            "_view_module_version": "1.2.0",
            "_view_name": "LayoutView",
            "align_content": null,
            "align_items": null,
            "align_self": null,
            "border": null,
            "bottom": null,
            "display": null,
            "flex": null,
            "flex_flow": null,
            "grid_area": null,
            "grid_auto_columns": null,
            "grid_auto_flow": null,
            "grid_auto_rows": null,
            "grid_column": null,
            "grid_gap": null,
            "grid_row": null,
            "grid_template_areas": null,
            "grid_template_columns": null,
            "grid_template_rows": null,
            "height": null,
            "justify_content": null,
            "justify_items": null,
            "left": null,
            "margin": null,
            "max_height": null,
            "max_width": null,
            "min_height": null,
            "min_width": null,
            "object_fit": null,
            "object_position": null,
            "order": null,
            "overflow": null,
            "overflow_x": null,
            "overflow_y": null,
            "padding": null,
            "right": null,
            "top": null,
            "visibility": null,
            "width": null
          }
        },
        "7f49f8055c7c407cbfa9661f8e3eab21": {
          "model_module": "@jupyter-widgets/controls",
          "model_name": "DescriptionStyleModel",
          "model_module_version": "1.5.0",
          "state": {
            "_model_module": "@jupyter-widgets/controls",
            "_model_module_version": "1.5.0",
            "_model_name": "DescriptionStyleModel",
            "_view_count": null,
            "_view_module": "@jupyter-widgets/base",
            "_view_module_version": "1.2.0",
            "_view_name": "StyleView",
            "description_width": ""
          }
        }
      }
    }
  },
  "cells": [
    {
      "cell_type": "markdown",
      "source": [
        "**PRACTICAL 1 : TOKENIZATION**"
      ],
      "metadata": {
        "id": "82KY4eHtikHs"
      }
    },
    {
      "cell_type": "code",
      "execution_count": 5,
      "metadata": {
        "colab": {
          "base_uri": "https://localhost:8080/"
        },
        "id": "Jf9toWgHhfFm",
        "outputId": "6db3c07e-d627-4c10-f6d4-da8e2cb86726"
      },
      "outputs": [
        {
          "name": "stdout",
          "output_type": "stream",
          "text": [
            "NLTK Downloader\n",
            "---------------------------------------------------------------------------\n",
            "    d) Download   l) List    u) Update   c) Config   h) Help   q) Quit\n",
            "---------------------------------------------------------------------------\n",
            "Downloader> q\n"
          ]
        },
        {
          "output_type": "stream",
          "name": "stderr",
          "text": [
            "[nltk_data] Downloading package punkt_tab to /root/nltk_data...\n",
            "[nltk_data]   Unzipping tokenizers/punkt_tab.zip.\n"
          ]
        },
        {
          "output_type": "stream",
          "name": "stdout",
          "text": [
            "['Hello', 'Lathika', 'Kotian', '.', 'Welcome', 'to', 'NCRDs', 'Sterling', 'Institute', 'of', 'Management', 'Studies', '!', '!', '!']\n"
          ]
        }
      ],
      "source": [
        "# 1a.) TOKENIZATION using NLTK\n",
        "import nltk\n",
        "nltk.download() #downlader d -> all\n",
        "nltk.download('punkt_tab')\n",
        "data=\"Hello Lathika Kotian. Welcome to NCRDs Sterling Institute of Management Studies !!!\"\n",
        "tokens=nltk.word_tokenize(data)\n",
        "print(tokens)"
      ]
    },
    {
      "cell_type": "markdown",
      "source": [
        "**PRACTICAL 2 : STOP WORD REMOVAL**"
      ],
      "metadata": {
        "id": "6msdMKyDic0x"
      }
    },
    {
      "cell_type": "code",
      "source": [
        "print(\"PRACTICAL-2 NLTK(Stopword Removal) by Lathika Kotian - 98\\n\")\n",
        "#2.) STOP WORD REMOVAL\n",
        "from nltk.tokenize import sent_tokenize,word_tokenize\n",
        "from nltk.corpus import stopwords\n",
        "nltk.download('stopwords')\n",
        "stopWords=set(stopwords.words('english'))\n",
        "\n",
        "print(f'Stopwords : \\n{stopWords}')\n",
        "data=\"This is a simple example to demonstrate stop word removal in NLP. Success comes to those who work hard and stay focused on their goals\"\n",
        "tokens=nltk.word_tokenize(data)\n",
        "filtered_Data=[]\n",
        "for w in tokens:\n",
        "    if w not in stopWords:\n",
        "        filtered_Data.append(w)\n",
        "print(\"\\nFiltered data after removing stopWords :\\n\",filtered_Data)\n"
      ],
      "metadata": {
        "colab": {
          "base_uri": "https://localhost:8080/"
        },
        "id": "gsszs56iiYw4",
        "outputId": "cfae2c9d-40ce-412c-883c-a6824f8a3901"
      },
      "execution_count": 6,
      "outputs": [
        {
          "output_type": "stream",
          "name": "stdout",
          "text": [
            "PRACTICAL-2 NLTK(Stopword Removal) by Lathika Kotian - 98\n",
            "\n",
            "Stopwords : \n",
            "{\"needn't\", 'me', 'did', 'haven', 'no', \"doesn't\", 'some', 't', 'then', \"i'm\", 'nor', 'ma', 'on', 'same', \"we'll\", 'for', 'only', 'just', 'don', 'it', \"that'll\", 'any', 'himself', \"shouldn't\", \"he'd\", \"hasn't\", \"we've\", \"he's\", \"we'd\", 'doesn', 'didn', 's', 'why', \"it'll\", \"you'd\", 'here', \"wouldn't\", \"should've\", 'of', 'so', 'm', 'who', 'won', 'further', 'i', 'most', \"you're\", 'more', 'they', 'the', \"he'll\", 'theirs', 'being', 'a', 'those', 'if', 'is', 'up', 've', 'under', 'what', 'were', 'wasn', 'mustn', 'weren', 'before', 'own', 'that', \"weren't\", 'she', 'too', 'whom', 'because', 'themselves', 'doing', 'by', 'below', 'couldn', \"don't\", \"i've\", 'during', \"mustn't\", 'aren', 'herself', 'very', 'our', 'an', 'to', 'few', 'ourselves', 'not', 'out', \"they'd\", 'with', \"they've\", 'but', 'yours', 'mightn', \"aren't\", \"it's\", 'until', 'can', 'o', 'than', 'above', 'ours', \"she's\", \"didn't\", \"it'd\", 'had', 'itself', 'these', \"wasn't\", 'we', 'when', 'your', 'about', 'its', \"you'll\", 'will', 'll', 'as', 'at', \"she'd\", 'each', \"they're\", 'all', 'shouldn', 'needn', 'hasn', 'his', 'how', 'hadn', 'their', 'him', 'was', 'again', 'or', 'in', 're', \"won't\", \"isn't\", 'and', \"they'll\", \"couldn't\", 'down', 'after', 'from', 'yourself', 'am', 'wouldn', 'into', 'my', 'while', 'does', 'shan', 'which', 'be', 'he', 'myself', 'yourselves', \"you've\", 'are', \"shan't\", \"i'll\", 'this', 'both', 'against', \"haven't\", 'isn', 'having', 'once', 'should', 'have', 'off', 'such', 'where', 'between', 'her', 'ain', \"mightn't\", 'there', 'been', 'has', 'them', \"hadn't\", 'now', \"she'll\", \"we're\", 'hers', 'over', \"i'd\", 'd', 'through', 'y', 'you', 'do', 'other'}\n",
            "\n",
            "Filtered data after removing stopWords :\n",
            " ['This', 'simple', 'example', 'demonstrate', 'stop', 'word', 'removal', 'NLP', '.', 'Success', 'comes', 'work', 'hard', 'stay', 'focused', 'goals']\n"
          ]
        },
        {
          "output_type": "stream",
          "name": "stderr",
          "text": [
            "[nltk_data] Downloading package stopwords to /root/nltk_data...\n",
            "[nltk_data]   Unzipping corpora/stopwords.zip.\n"
          ]
        }
      ]
    },
    {
      "cell_type": "markdown",
      "source": [
        "**PRACTICAL 3 : PORTER STEMMER**"
      ],
      "metadata": {
        "id": "rn54-_VSisNl"
      }
    },
    {
      "cell_type": "code",
      "source": [
        "print(\"PRACTICAL-3 NLTK(PorterStemmer) by Lathika Kotian - 98\\n\")\n",
        "#3.) PorterStemmer\n",
        "from nltk.stem import PorterStemmer\n",
        "from nltk.tokenize import word_tokenize\n",
        "\n",
        "stemmer = PorterStemmer()\n",
        "sentence = \"The children liked playing games, but they were quickly bored and stopped liking them\"\n",
        "\n",
        "# Tokenize the sentence\n",
        "words = word_tokenize(sentence)\n",
        "\n",
        "# Apply stemming\n",
        "for word in words:\n",
        "    print(word, \":\", stemmer.stem(word))\n"
      ],
      "metadata": {
        "colab": {
          "base_uri": "https://localhost:8080/"
        },
        "id": "4CR5elrKjBDi",
        "outputId": "1aae21c7-cab1-4d5b-f94b-9084b14f8554"
      },
      "execution_count": 10,
      "outputs": [
        {
          "output_type": "stream",
          "name": "stdout",
          "text": [
            "PRACTICAL-3 NLTK(PorterStemmer) by Lathika Kotian - 98\n",
            "\n",
            "The : the\n",
            "children : children\n",
            "liked : like\n",
            "playing : play\n",
            "games : game\n",
            ", : ,\n",
            "but : but\n",
            "they : they\n",
            "were : were\n",
            "quickly : quickli\n",
            "bored : bore\n",
            "and : and\n",
            "stopped : stop\n",
            "liking : like\n",
            "them : them\n"
          ]
        }
      ]
    },
    {
      "cell_type": "code",
      "source": [
        "print(\"PRACTICAL-3 NLTK(PorterStemmer) by Lathika Kotian - 98\\n\")\n",
        "# From file txt\n",
        "import nltk\n",
        "from nltk.stem import PorterStemmer\n",
        "from nltk.tokenize import word_tokenize\n",
        "nltk.download('punkt')\n",
        "\n",
        "port_stemmer = PorterStemmer()\n",
        "\n",
        "default_sentence = \"The children liked playing games, but they were quickly bored and stopped liking them.\"\n",
        "\n",
        "try:\n",
        "    with open(\"PortStem.txt\", \"r\") as file:\n",
        "        text_data = file.read().strip()\n",
        "        if not text_data:\n",
        "            print(\"File is empty. Using default sentence.\\n\")\n",
        "            text_data = default_sentence\n",
        "except FileNotFoundError:\n",
        "    print(\"File not found. Using default sentence.\\n\")\n",
        "    text_data = default_sentence\n",
        "\n",
        "# Tokenize and stem\n",
        "tokens = word_tokenize(text_data)\n",
        "print(\"Stemmed Words:\")\n",
        "for word in tokens:\n",
        "    print(\"\\t\",word, \":\", port_stemmer.stem(word))"
      ],
      "metadata": {
        "colab": {
          "base_uri": "https://localhost:8080/"
        },
        "id": "GfzkfxX1jPMp",
        "outputId": "b34ea7f7-06fa-40c1-e9be-9ac4ec7f9d4a"
      },
      "execution_count": 8,
      "outputs": [
        {
          "output_type": "stream",
          "name": "stdout",
          "text": [
            "PRACTICAL-3 NLTK(PorterStemmer) by Lathika Kotian - 98\n",
            "\n"
          ]
        },
        {
          "output_type": "stream",
          "name": "stderr",
          "text": [
            "[nltk_data] Downloading package punkt to /root/nltk_data...\n",
            "[nltk_data]   Unzipping tokenizers/punkt.zip.\n"
          ]
        },
        {
          "output_type": "stream",
          "name": "stdout",
          "text": [
            "File not found. Using default sentence.\n",
            "\n",
            "Stemmed Words:\n",
            "\t The : the\n",
            "\t children : children\n",
            "\t liked : like\n",
            "\t playing : play\n",
            "\t games : game\n",
            "\t , : ,\n",
            "\t but : but\n",
            "\t they : they\n",
            "\t were : were\n",
            "\t quickly : quickli\n",
            "\t bored : bore\n",
            "\t and : and\n",
            "\t stopped : stop\n",
            "\t liking : like\n",
            "\t them : them\n",
            "\t . : .\n"
          ]
        }
      ]
    },
    {
      "cell_type": "markdown",
      "source": [
        "**PRACTICAL 4 : LEMMATIZATION**"
      ],
      "metadata": {
        "id": "u-DFe0ZEkAya"
      }
    },
    {
      "cell_type": "code",
      "source": [
        "#4.) LEMMATIZATION\n",
        "print(\"PRACTICAL-4 NLTK (Lemmatization) by Lathika Kotian - 98\\n\")\n",
        "nltk.download('wordnet')\n",
        "from nltk.stem import WordNetLemmatizer\n",
        "lemmati=WordNetLemmatizer()\n",
        "\n",
        "print(\"Socks :\",lemmati.lemmatize(\"socks\"))\n",
        "print(\"corpora :\",lemmati.lemmatize(\"corpora\"))\n",
        "print(\"better :\",lemmati.lemmatize(\"better\",pos=\"a\"))\n"
      ],
      "metadata": {
        "colab": {
          "base_uri": "https://localhost:8080/"
        },
        "id": "ed7X8bNTlAhL",
        "outputId": "42a974c0-2667-487c-894f-f04892230e7a"
      },
      "execution_count": 12,
      "outputs": [
        {
          "output_type": "stream",
          "name": "stdout",
          "text": [
            "PRACTICAL-4 NLTK (Lemmatization) by Lathika Kotian - 98\n",
            "\n"
          ]
        },
        {
          "output_type": "stream",
          "name": "stderr",
          "text": [
            "[nltk_data] Downloading package wordnet to /root/nltk_data...\n"
          ]
        },
        {
          "output_type": "stream",
          "name": "stdout",
          "text": [
            "Socks : sock\n",
            "corpora : corpus\n",
            "better : good\n"
          ]
        }
      ]
    },
    {
      "cell_type": "markdown",
      "source": [
        "**PRACTICAL 5 : Ngram**"
      ],
      "metadata": {
        "id": "AwnHnk9ulS2V"
      }
    },
    {
      "cell_type": "code",
      "source": [
        "#5.) N-GRAM Model -TriGram\n",
        "print(\"PRACTICAL-5 NLTK (N-GRAM Model) by Lathika Kotian - 98\\n\")\n",
        "import nltk\n",
        "nltk.download('punkt')\n",
        "from nltk.util import ngrams\n",
        "from nltk.tokenize import word_tokenize\n",
        "data =\"The movie was exciting and thrilling\"\n",
        "tokens = nltk.word_tokenize(data)\n",
        "Ngram = ngrams(tokens, 3)\n",
        "print(\"TriGram Model : \")\n",
        "for gram in Ngram:\n",
        "    print(\"\\t\",gram)"
      ],
      "metadata": {
        "colab": {
          "base_uri": "https://localhost:8080/"
        },
        "id": "s9_VPHWTlWZD",
        "outputId": "3517b634-e380-4440-e1f3-1d7251e5a55c"
      },
      "execution_count": 13,
      "outputs": [
        {
          "output_type": "stream",
          "name": "stdout",
          "text": [
            "PRACTICAL-5 NLTK (N-GRAM Model) by Lathika Kotian - 98\n",
            "\n",
            "TriGram Model : \n",
            "\t ('The', 'movie', 'was')\n",
            "\t ('movie', 'was', 'exciting')\n",
            "\t ('was', 'exciting', 'and')\n",
            "\t ('exciting', 'and', 'thrilling')\n"
          ]
        },
        {
          "output_type": "stream",
          "name": "stderr",
          "text": [
            "[nltk_data] Downloading package punkt to /root/nltk_data...\n",
            "[nltk_data]   Package punkt is already up-to-date!\n"
          ]
        }
      ]
    },
    {
      "cell_type": "code",
      "source": [
        "#5.) N-GRAM Model-Bigram\n",
        "print(\"PRACTICAL-5 NLTK (N-GRAM Model for n=2) by Lathika Kotian - 98\\n\")\n",
        "import nltk\n",
        "nltk.download('punkt')\n",
        "from nltk.util import ngrams\n",
        "from nltk.tokenize import word_tokenize\n",
        "data =\"The movie was exciting and thrilling\"\n",
        "tokens = nltk.word_tokenize(data)\n",
        "Ngram = ngrams(tokens, 2)\n",
        "print(\"BiGram Model : \")\n",
        "for gram in Ngram:\n",
        "    print(\"\\t\",gram)"
      ],
      "metadata": {
        "colab": {
          "base_uri": "https://localhost:8080/"
        },
        "id": "U0dWGljbluNX",
        "outputId": "0c1b7a1d-3491-4d29-cf3c-d7cf8d993615"
      },
      "execution_count": 14,
      "outputs": [
        {
          "output_type": "stream",
          "name": "stdout",
          "text": [
            "PRACTICAL-5 NLTK (N-GRAM Model for n=2) by Lathika Kotian - 98\n",
            "\n",
            "BiGram Model : \n",
            "\t ('The', 'movie')\n",
            "\t ('movie', 'was')\n",
            "\t ('was', 'exciting')\n",
            "\t ('exciting', 'and')\n",
            "\t ('and', 'thrilling')\n"
          ]
        },
        {
          "output_type": "stream",
          "name": "stderr",
          "text": [
            "[nltk_data] Downloading package punkt to /root/nltk_data...\n",
            "[nltk_data]   Package punkt is already up-to-date!\n"
          ]
        }
      ]
    },
    {
      "cell_type": "markdown",
      "source": [
        "**PRACTICAL 6 : POS Tagging**"
      ],
      "metadata": {
        "id": "Tv6coeOblzj6"
      }
    },
    {
      "cell_type": "code",
      "source": [
        "print(\"PRACTICAL-6 NLTK (POS Tagging) by Lathika Kotian - 98\\n\")\n",
        "import nltk\n",
        "from nltk.tokenize import word_tokenize\n",
        "from nltk import pos_tag\n",
        "nltk.download('punkt')\n",
        "nltk.download('averaged_perceptron_tagger')\n",
        "text = \"The quick brown fox jumps over the lazy dog.\"\n",
        "words = word_tokenize(text)\n",
        "print(\"Tokens/Words :-\", words)\n",
        "\n",
        "pos_tags = pos_tag(words)\n",
        "print(\"Word with POS :-\", pos_tags)\n",
        "for word, tag in pos_tags:\n",
        "    print(f\"{word} : {tag}\")\n",
        "\n",
        "# Create and display a POS-tagged tree structure\n",
        "tree_obj = nltk.Tree('Sentence', [(word, tag) for word, tag in pos_tags])\n",
        "tree_obj.pretty_print()\n"
      ],
      "metadata": {
        "colab": {
          "base_uri": "https://localhost:8080/"
        },
        "id": "YTIsAyTel21t",
        "outputId": "1bcf5f39-b7e6-4e71-fedd-de950c5382db"
      },
      "execution_count": 15,
      "outputs": [
        {
          "output_type": "stream",
          "name": "stdout",
          "text": [
            "PRACTICAL-6 NLTK (POS Tagging) by Lathika Kotian - 98\n",
            "\n",
            "Tokens/Words :- ['The', 'quick', 'brown', 'fox', 'jumps', 'over', 'the', 'lazy', 'dog', '.']\n"
          ]
        },
        {
          "output_type": "stream",
          "name": "stderr",
          "text": [
            "[nltk_data] Downloading package punkt to /root/nltk_data...\n",
            "[nltk_data]   Package punkt is already up-to-date!\n",
            "[nltk_data] Downloading package averaged_perceptron_tagger to\n",
            "[nltk_data]     /root/nltk_data...\n",
            "[nltk_data]   Package averaged_perceptron_tagger is already up-to-\n",
            "[nltk_data]       date!\n"
          ]
        },
        {
          "output_type": "stream",
          "name": "stdout",
          "text": [
            "Word with POS :- [('The', 'DT'), ('quick', 'JJ'), ('brown', 'NN'), ('fox', 'NN'), ('jumps', 'VBZ'), ('over', 'IN'), ('the', 'DT'), ('lazy', 'JJ'), ('dog', 'NN'), ('.', '.')]\n",
            "The : DT\n",
            "quick : JJ\n",
            "brown : NN\n",
            "fox : NN\n",
            "jumps : VBZ\n",
            "over : IN\n",
            "the : DT\n",
            "lazy : JJ\n",
            "dog : NN\n",
            ". : .\n",
            "                                 Sentence                                  \n",
            "   _________________________________|____________________________________   \n",
            "The/DT quick/JJ brown/NN fox/NN jumps/VBZ over/IN the/DT lazy/JJ dog/NN ./.\n",
            "\n"
          ]
        }
      ]
    },
    {
      "cell_type": "markdown",
      "source": [
        "**PRACTICAL 7 :NER**"
      ],
      "metadata": {
        "id": "t7HC6qQKmBo3"
      }
    },
    {
      "cell_type": "code",
      "source": [
        "#Name_entity_recognition\n",
        "print(\"PRACTICAL-7 NLTK (NER) by Lathika Kotian - 98\\n\")\n",
        "import nltk\n",
        "from nltk import word_tokenize, pos_tag, ne_chunk\n",
        "# nltk.download('punkt')\n",
        "# nltk.download('maxent_ne_chunker')\n",
        "nltk.download('words')\n",
        "# nltk.download('averaged_perceptron_tagger')\n",
        "text = \"Lathika Kotian was born in Mumbai, India on November 09, 2003\"\n",
        "# Tokenizing and tagging\n",
        "tokens = word_tokenize(text)\n",
        "tagged_tokens = pos_tag(tokens)\n",
        "named_entities = ne_chunk(tagged_tokens)\n",
        "#print(named_entities)\n",
        "from nltk.tree import Tree\n",
        "print(\"Named Entities:\")\n",
        "for subtree in named_entities:\n",
        "    if isinstance(subtree, Tree):\n",
        "        entity_name = \" \".join(token for token, pos in subtree.leaves())\n",
        "        entity_type = subtree.label()\n",
        "        print(f\"\\t{entity_name} -> {entity_type}\")\n",
        "#named_entities.draw()\n"
      ],
      "metadata": {
        "colab": {
          "base_uri": "https://localhost:8080/"
        },
        "id": "hp8tK8qLmErA",
        "outputId": "b0160a69-5657-4f41-c4ce-e3ec68434b49"
      },
      "execution_count": 17,
      "outputs": [
        {
          "output_type": "stream",
          "name": "stdout",
          "text": [
            "PRACTICAL-7 NLTK (NER) by Lathika Kotian - 98\n",
            "\n"
          ]
        },
        {
          "output_type": "stream",
          "name": "stderr",
          "text": [
            "[nltk_data] Downloading package words to /root/nltk_data...\n",
            "[nltk_data]   Unzipping corpora/words.zip.\n"
          ]
        },
        {
          "output_type": "stream",
          "name": "stdout",
          "text": [
            "Named Entities:\n",
            "\tLathika -> PERSON\n",
            "\tKotian -> PERSON\n",
            "\tMumbai -> GPE\n",
            "\tIndia -> GPE\n"
          ]
        }
      ]
    },
    {
      "cell_type": "markdown",
      "source": [
        "**PRACTICAL 8A : BOW**"
      ],
      "metadata": {
        "id": "zBMxaVBjmQBS"
      }
    },
    {
      "cell_type": "code",
      "source": [
        "print(\"PRACTICAL-8A NLTK (BOW) by Lathika Kotian - 98\\n\")\n",
        "# Bag of words\n",
        "import nltk\n",
        "import numpy as np\n",
        "from collections import Counter\n",
        "\n",
        "nltk.download('punkt')\n",
        "texts = [\n",
        "  \"I like to play badminton\",\n",
        "    \"Badminton is a great sport\",\n",
        "    # \"I enjoy playing badminton on weekends.\"\n",
        "]\n",
        "\n",
        " # Tokenize the texts\n",
        "tokenized_texts = [nltk.word_tokenize(text.lower()) for text in texts]\n",
        "\n",
        "# Create a vocabulary (set of all unique words)\n",
        "vocabulary = set(word for text in tokenized_texts for word in text)\n",
        "print(\"Vocabulary:\", vocabulary)\n",
        "\n",
        "# Bag of Words (BoW) representation\n",
        "def get_bow_representation(tokens, vocabulary):\n",
        "    return [tokens.count(word) for word in vocabulary]\n",
        "\n",
        "bow_vectors = [get_bow_representation(text, vocabulary) for text in tokenized_texts]\n",
        "\n",
        "# Print BoW vectors\n",
        "# print(\"\\nBag of Words (BoW) Vectors:\")\n",
        "# for i, bow_vector in enumerate(bow_vectors, start=1):\n",
        "#     print(f\"Text {i} BoW vector: {np.array(bow_vector)}\")\n",
        "\n",
        "print(\"\\nBoW vectors:\")\n",
        "for i, bow_vector in enumerate(bow_vectors):\n",
        "    print(f\"\\tSentence {i+1}: {bow_vector}\")"
      ],
      "metadata": {
        "colab": {
          "base_uri": "https://localhost:8080/"
        },
        "id": "Sx5WR8y2mTKF",
        "outputId": "33873dc5-1e30-4e59-e000-f763213b0db4"
      },
      "execution_count": 19,
      "outputs": [
        {
          "output_type": "stream",
          "name": "stdout",
          "text": [
            "PRACTICAL-8A NLTK (BOW) by Lathika Kotian - 98\n",
            "\n",
            "Vocabulary: {'sport', 'play', 'a', 'great', 'is', 'badminton', 'like', 'to', 'i'}\n",
            "\n",
            "BoW vectors:\n",
            "\tSentence 1: [0, 1, 0, 0, 0, 1, 1, 1, 1]\n",
            "\tSentence 2: [1, 0, 1, 1, 1, 1, 0, 0, 0]\n"
          ]
        },
        {
          "output_type": "stream",
          "name": "stderr",
          "text": [
            "[nltk_data] Downloading package punkt to /root/nltk_data...\n",
            "[nltk_data]   Package punkt is already up-to-date!\n"
          ]
        }
      ]
    },
    {
      "cell_type": "markdown",
      "source": [
        "**PRACTICAL 8B : TF IDF**"
      ],
      "metadata": {
        "id": "qN8t6AqCmdWI"
      }
    },
    {
      "cell_type": "code",
      "source": [
        "print(\"PRACTICAL-8B NLTK(TF-IDF) by Lathika Kotian - 98\\n\")\n",
        "\n",
        "import nltk\n",
        "import numpy as np\n",
        "import pandas as pd\n",
        "from math import log\n",
        "\n",
        "nltk.download('punkt', quiet=True)\n",
        "\n",
        "texts = [\n",
        "    \"I like to play badminton\",\n",
        "    \"Badminton is a great sport\",\n",
        "    # \"I enjoy playing badminton on weekends.\"\n",
        "]\n",
        "\n",
        "tokenized_texts = [nltk.word_tokenize(text.lower()) for text in texts]\n",
        "\n",
        "# Create sorted vocabulary\n",
        "vocabulary = sorted(set(word for text in tokenized_texts for word in text))\n",
        "print(\"Vocabulary:\", vocabulary)\n",
        "\n",
        "# TF function\n",
        "def get_tf(tokens, vocabulary):\n",
        "    return [tokens.count(word) for word in vocabulary]\n",
        "\n",
        "# IDF function\n",
        "def get_idf(vocabulary, docs):\n",
        "    num_docs = len(docs)\n",
        "    idf_vector = []\n",
        "    for word in vocabulary:\n",
        "        num_docs_with_word = sum(1 for doc in docs if word in doc)\n",
        "        idf_value = log(num_docs / (1 + num_docs_with_word)) + 1  # Smoothed\n",
        "        idf_vector.append(idf_value)\n",
        "    return idf_vector\n",
        "\n",
        "# TF-IDF function\n",
        "def get_tfidf(tokens, vocabulary, idf_vector):\n",
        "    tf_vector = get_tf(tokens, vocabulary)\n",
        "    return [tf * idf for tf, idf in zip(tf_vector, idf_vector)]\n",
        "\n",
        "# Compute IDF\n",
        "idf_vector = get_idf(vocabulary, tokenized_texts)\n",
        "\n",
        "# ShowIng IDF\n",
        "idf_df = pd.DataFrame({\n",
        "    'Word': vocabulary,\n",
        "    'IDF': np.round(idf_vector, 4)\n",
        "})\n",
        "print(\"\\nIDF Values:\")\n",
        "print(idf_df)\n",
        "\n",
        "# Compute TF-IDF for each doc\n",
        "tfidf_matrix = []\n",
        "for tokens in tokenized_texts:\n",
        "    tfidf = get_tfidf(tokens, vocabulary, idf_vector)\n",
        "    tfidf_matrix.append(tfidf)\n",
        "\n",
        "# Convert to DataFrame for display\n",
        "tfidf_df = pd.DataFrame(np.round(tfidf_matrix, 4), columns=vocabulary, index=[f\"Doc{i+1}\" for i in range(len(texts))])\n",
        "print(\"\\nTF-IDF Matrix:\")\n",
        "print(tfidf_df)\n",
        "\n",
        "# # Compute TF-IDF for each document\n",
        "# tfidf_vectors = [get_tfidf(text, vocabulary, idf_vector) for text in tokenized_texts]\n",
        "\n",
        "# Print TF-IDF vectors\n",
        "# print(\"\\nTF-IDF vectors:\")\n",
        "# print(np.array(tfidf_vectors))\n"
      ],
      "metadata": {
        "colab": {
          "base_uri": "https://localhost:8080/"
        },
        "id": "nSHySrKkmg7U",
        "outputId": "b1de03fd-d37e-45f0-de5c-b1a6ef5fa6b6"
      },
      "execution_count": 20,
      "outputs": [
        {
          "output_type": "stream",
          "name": "stdout",
          "text": [
            "PRACTICAL-8B NLTK(TF-IDF) by Lathika Kotian - 98\n",
            "\n",
            "Vocabulary: ['a', 'badminton', 'great', 'i', 'is', 'like', 'play', 'sport', 'to']\n",
            "\n",
            "IDF Values:\n",
            "        Word     IDF\n",
            "0          a  1.0000\n",
            "1  badminton  0.5945\n",
            "2      great  1.0000\n",
            "3          i  1.0000\n",
            "4         is  1.0000\n",
            "5       like  1.0000\n",
            "6       play  1.0000\n",
            "7      sport  1.0000\n",
            "8         to  1.0000\n",
            "\n",
            "TF-IDF Matrix:\n",
            "        a  badminton  great    i   is  like  play  sport   to\n",
            "Doc1  0.0     0.5945    0.0  1.0  0.0   1.0   1.0    0.0  1.0\n",
            "Doc2  1.0     0.5945    1.0  0.0  1.0   0.0   0.0    1.0  0.0\n"
          ]
        }
      ]
    },
    {
      "cell_type": "markdown",
      "source": [
        "**PRACTICAL 8C : COSINE SIMILARITY**"
      ],
      "metadata": {
        "id": "NnR_l1yemuxO"
      }
    },
    {
      "cell_type": "code",
      "source": [
        "#PROGRAM TO COMPARE TWO VECTORs OF BOW USING COSINE SIMILARITY\n",
        "print(\"PRACTICAL-8c NLTK(COSINE Similarity) by Lathika Kotian - 98\\n\")\n",
        "\n",
        "import nltk\n",
        "import numpy as np\n",
        "from sklearn.metrics.pairwise import cosine_similarity\n",
        "\n",
        "nltk.download('punkt')\n",
        "texts = [\n",
        "    \"I like to play badminton\",\n",
        "    \"Badminton is a great sport\"\n",
        "]\n",
        "\n",
        " # Tokenize the texts\n",
        "tokenized_texts = [nltk.word_tokenize(text.lower()) for text in texts]\n",
        "\n",
        "# Create a vocabulary]\n",
        "vocabulary = set(word for text in tokenized_texts for word in text)\n",
        "print(\"Vocabulary: \",vocabulary)\n",
        "# Bag of Words (BoW) representation\n",
        "def get_bow_representation(tokens, vocabulary):\n",
        "    return [tokens.count(word) for word in vocabulary]\n",
        "bow_vectors = [get_bow_representation(text, vocabulary) for text in tokenized_texts]\n",
        "\n",
        "# Print BoW vectors\n",
        "# print(\"BoW vectors:\")\n",
        "# print(np.array(bow_vectors))\n",
        "print(\"\\nBag of Words (BoW) Vectors:\")\n",
        "for i, bow_vector in enumerate(bow_vectors, start=1):\n",
        "    print(f\"Text {i} BoW vector: {np.array(bow_vector)}\")\n",
        "\n",
        "bow_similarity = cosine_similarity([bow_vectors[0]], [bow_vectors[1]])[0][0]\n",
        "print(f\"\\nCosine Similarity between Text 1 and Text 2 is {bow_similarity*100}%\")"
      ],
      "metadata": {
        "colab": {
          "base_uri": "https://localhost:8080/"
        },
        "id": "FB_WfXWem4vq",
        "outputId": "e17e49e6-22b7-4a70-a698-05a40ef79a36"
      },
      "execution_count": 21,
      "outputs": [
        {
          "output_type": "stream",
          "name": "stdout",
          "text": [
            "PRACTICAL-8c NLTK(COSINE Similarity) by Lathika Kotian - 98\n",
            "\n",
            "Vocabulary:  {'sport', 'play', 'a', 'great', 'is', 'badminton', 'like', 'to', 'i'}\n",
            "\n",
            "Bag of Words (BoW) Vectors:\n",
            "Text 1 BoW vector: [0 1 0 0 0 1 1 1 1]\n",
            "Text 2 BoW vector: [1 0 1 1 1 1 0 0 0]\n",
            "\n",
            "Cosine Similarity between Text 1 and Text 2 is 20.0%\n"
          ]
        },
        {
          "output_type": "stream",
          "name": "stderr",
          "text": [
            "[nltk_data] Downloading package punkt to /root/nltk_data...\n",
            "[nltk_data]   Package punkt is already up-to-date!\n"
          ]
        }
      ]
    },
    {
      "cell_type": "markdown",
      "source": [
        "**PRACTICAL 8D (BOW + TF-IDF) Cosine Similarity**"
      ],
      "metadata": {
        "id": "cjZmd6Jkm_Pj"
      }
    },
    {
      "cell_type": "code",
      "source": [
        "\n",
        "print(\"PRACTICAL-8D (BOW + TF-IDF) Cosine Similarity using NLTK by Lathika Kotian - 98\\n\")\n",
        "import nltk\n",
        "import numpy as np\n",
        "from collections import Counter\n",
        "from math import log\n",
        "from sklearn.metrics.pairwise import cosine_similarity\n",
        "\n",
        "nltk.download('punkt')\n",
        "texts = [\n",
        "     \"I like to play badminton\",\n",
        "    \"Badminton is a great sport\"\n",
        "]\n",
        "# Tokenize the texts\n",
        "tokenized_texts = [nltk.word_tokenize(text.lower()) for text in texts]\n",
        "# Create a vocabulary\n",
        "vocabulary = set(word for text in tokenized_texts for word in text)\n",
        "print(\"Vocabulary:\", vocabulary)\n",
        "\n",
        "# Bag of Words (BoW)\n",
        "def get_bow_representation(tokens, vocabulary):\n",
        "    return [tokens.count(word) for word in vocabulary]\n",
        "\n",
        "bow_vectors = [get_bow_representation(text, vocabulary) for text in tokenized_texts]\n",
        "\n",
        "# TF\n",
        "def get_tf(tokens, vocabulary):\n",
        "    return [tokens.count(word) for word in vocabulary]\n",
        "\n",
        "def get_idf(vocabulary, docs):\n",
        "    num_docs = len(docs)\n",
        "    idf_vector = []\n",
        "    for word in vocabulary:\n",
        "        # Count the number of documents containing the word\n",
        "        num_docs_with_word = sum(1 for doc in docs if word in doc)\n",
        "        # Calculate IDF as log(num_docs / (1 + num_docs_with_word)) to avoid division by zero\n",
        "        idf_value = log(num_docs / (1 + num_docs_with_word)) + 1\n",
        "        idf_vector.append(idf_value)\n",
        "    return idf_vector\n",
        "\n",
        "\n",
        "# TF-IDF\n",
        "def get_tfidf(tokens, vocabulary, idf_vector):\n",
        "    tf_vector = get_tf(tokens, vocabulary)\n",
        "    tfidf_vector = [tf * idf for tf, idf in zip(tf_vector, idf_vector)]\n",
        "    return tfidf_vector\n",
        "\n",
        "# Calculate IDF for the entire corpus\n",
        "idf_vector = get_idf(vocabulary, tokenized_texts)\n",
        "# print(\"\\nIDF vectors:\")\n",
        "# print(idf_vector)\n",
        "\n",
        "#TF-IDF for each document\n",
        "tfidf_vectors = [get_tfidf(text, vocabulary, idf_vector) for text in tokenized_texts]\n",
        "\n",
        "#cosine similarity between BoW and TF-IDF vectors for doc1\n",
        "bow_similarity = cosine_similarity([bow_vectors[0]], [tfidf_vectors[0]])[0][0]\n",
        "print(f\"\\nCosine Similarity between doc1 (BoW) and doc1 (TF-IDF):{bow_similarity*100:.2f}%\")\n",
        "\n",
        "#cosine similarity between BoW and TF-IDF vectors for doc2\n",
        "bow_similarity = cosine_similarity([bow_vectors[1]], [tfidf_vectors[1]])[0][0]\n",
        "print(f\"Cosine Similarity between doc2 (BoW) and doc2 (TF-IDF) : {bow_similarity*100:.2f}%\")\n"
      ],
      "metadata": {
        "colab": {
          "base_uri": "https://localhost:8080/"
        },
        "id": "949-A0sRnBuV",
        "outputId": "750c81c8-0b58-4c4d-e7d4-130ca21a11ac"
      },
      "execution_count": 22,
      "outputs": [
        {
          "output_type": "stream",
          "name": "stdout",
          "text": [
            "PRACTICAL-8D (BOW + TF-IDF) Cosine Similarity using NLTK by Lathika Kotian - 98\n",
            "\n",
            "Vocabulary: {'sport', 'play', 'a', 'great', 'is', 'badminton', 'like', 'to', 'i'}\n",
            "\n",
            "Cosine Similarity between doc1 (BoW) and doc1 (TF-IDF):98.48%\n",
            "Cosine Similarity between doc2 (BoW) and doc2 (TF-IDF) : 98.48%\n"
          ]
        },
        {
          "output_type": "stream",
          "name": "stderr",
          "text": [
            "[nltk_data] Downloading package punkt to /root/nltk_data...\n",
            "[nltk_data]   Package punkt is already up-to-date!\n"
          ]
        }
      ]
    },
    {
      "cell_type": "markdown",
      "source": [
        "**PRACTICAL 9 WORDTOVEC**"
      ],
      "metadata": {
        "id": "9DyoqKW3neVx"
      }
    },
    {
      "cell_type": "code",
      "source": [
        "!pip install --upgrade --force-reinstall numpy==1.24.3 scipy==1.10.1 gensim==4.3.1"
      ],
      "metadata": {
        "colab": {
          "base_uri": "https://localhost:8080/",
          "height": 1000
        },
        "id": "sGmBfiJboPZx",
        "outputId": "6a8519c0-e2a4-4ecd-d0b3-8968b1684f59"
      },
      "execution_count": 24,
      "outputs": [
        {
          "output_type": "stream",
          "name": "stdout",
          "text": [
            "Collecting numpy==1.24.3\n",
            "  Downloading numpy-1.24.3-cp311-cp311-manylinux_2_17_x86_64.manylinux2014_x86_64.whl.metadata (5.6 kB)\n",
            "Collecting scipy==1.10.1\n",
            "  Downloading scipy-1.10.1-cp311-cp311-manylinux_2_17_x86_64.manylinux2014_x86_64.whl.metadata (58 kB)\n",
            "\u001b[2K     \u001b[90m━━━━━━━━━━━━━━━━━━━━━━━━━━━━━━━━━━━━━━━━\u001b[0m \u001b[32m58.9/58.9 kB\u001b[0m \u001b[31m2.1 MB/s\u001b[0m eta \u001b[36m0:00:00\u001b[0m\n",
            "\u001b[?25hCollecting gensim==4.3.1\n",
            "  Downloading gensim-4.3.1-cp311-cp311-manylinux_2_17_x86_64.manylinux2014_x86_64.whl.metadata (8.4 kB)\n",
            "Collecting smart-open>=1.8.1 (from gensim==4.3.1)\n",
            "  Downloading smart_open-7.1.0-py3-none-any.whl.metadata (24 kB)\n",
            "Collecting wrapt (from smart-open>=1.8.1->gensim==4.3.1)\n",
            "  Downloading wrapt-1.17.2-cp311-cp311-manylinux_2_5_x86_64.manylinux1_x86_64.manylinux_2_17_x86_64.manylinux2014_x86_64.whl.metadata (6.4 kB)\n",
            "Downloading numpy-1.24.3-cp311-cp311-manylinux_2_17_x86_64.manylinux2014_x86_64.whl (17.3 MB)\n",
            "\u001b[2K   \u001b[90m━━━━━━━━━━━━━━━━━━━━━━━━━━━━━━━━━━━━━━━━\u001b[0m \u001b[32m17.3/17.3 MB\u001b[0m \u001b[31m34.8 MB/s\u001b[0m eta \u001b[36m0:00:00\u001b[0m\n",
            "\u001b[?25hDownloading scipy-1.10.1-cp311-cp311-manylinux_2_17_x86_64.manylinux2014_x86_64.whl (34.1 MB)\n",
            "\u001b[2K   \u001b[90m━━━━━━━━━━━━━━━━━━━━━━━━━━━━━━━━━━━━━━━━\u001b[0m \u001b[32m34.1/34.1 MB\u001b[0m \u001b[31m19.1 MB/s\u001b[0m eta \u001b[36m0:00:00\u001b[0m\n",
            "\u001b[?25hDownloading gensim-4.3.1-cp311-cp311-manylinux_2_17_x86_64.manylinux2014_x86_64.whl (26.6 MB)\n",
            "\u001b[2K   \u001b[90m━━━━━━━━━━━━━━━━━━━━━━━━━━━━━━━━━━━━━━━━\u001b[0m \u001b[32m26.6/26.6 MB\u001b[0m \u001b[31m48.0 MB/s\u001b[0m eta \u001b[36m0:00:00\u001b[0m\n",
            "\u001b[?25hDownloading smart_open-7.1.0-py3-none-any.whl (61 kB)\n",
            "\u001b[2K   \u001b[90m━━━━━━━━━━━━━━━━━━━━━━━━━━━━━━━━━━━━━━━━\u001b[0m \u001b[32m61.7/61.7 kB\u001b[0m \u001b[31m3.4 MB/s\u001b[0m eta \u001b[36m0:00:00\u001b[0m\n",
            "\u001b[?25hDownloading wrapt-1.17.2-cp311-cp311-manylinux_2_5_x86_64.manylinux1_x86_64.manylinux_2_17_x86_64.manylinux2014_x86_64.whl (83 kB)\n",
            "\u001b[2K   \u001b[90m━━━━━━━━━━━━━━━━━━━━━━━━━━━━━━━━━━━━━━━━\u001b[0m \u001b[32m83.2/83.2 kB\u001b[0m \u001b[31m4.3 MB/s\u001b[0m eta \u001b[36m0:00:00\u001b[0m\n",
            "\u001b[?25hInstalling collected packages: wrapt, numpy, smart-open, scipy, gensim\n",
            "  Attempting uninstall: wrapt\n",
            "    Found existing installation: wrapt 1.17.2\n",
            "    Uninstalling wrapt-1.17.2:\n",
            "      Successfully uninstalled wrapt-1.17.2\n",
            "  Attempting uninstall: numpy\n",
            "    Found existing installation: numpy 1.26.4\n",
            "    Uninstalling numpy-1.26.4:\n",
            "      Successfully uninstalled numpy-1.26.4\n",
            "  Attempting uninstall: smart-open\n",
            "    Found existing installation: smart-open 7.1.0\n",
            "    Uninstalling smart-open-7.1.0:\n",
            "      Successfully uninstalled smart-open-7.1.0\n",
            "  Attempting uninstall: scipy\n",
            "    Found existing installation: scipy 1.13.1\n",
            "    Uninstalling scipy-1.13.1:\n",
            "      Successfully uninstalled scipy-1.13.1\n",
            "  Attempting uninstall: gensim\n",
            "    Found existing installation: gensim 4.3.3\n",
            "    Uninstalling gensim-4.3.3:\n",
            "      Successfully uninstalled gensim-4.3.3\n",
            "\u001b[31mERROR: pip's dependency resolver does not currently take into account all the packages that are installed. This behaviour is the source of the following dependency conflicts.\n",
            "cvxpy 1.6.5 requires scipy>=1.11.0, but you have scipy 1.10.1 which is incompatible.\n",
            "jaxlib 0.5.1 requires numpy>=1.25, but you have numpy 1.24.3 which is incompatible.\n",
            "jaxlib 0.5.1 requires scipy>=1.11.1, but you have scipy 1.10.1 which is incompatible.\n",
            "jax 0.5.2 requires numpy>=1.25, but you have numpy 1.24.3 which is incompatible.\n",
            "jax 0.5.2 requires scipy>=1.11.1, but you have scipy 1.10.1 which is incompatible.\n",
            "tensorflow 2.18.0 requires numpy<2.1.0,>=1.26.0, but you have numpy 1.24.3 which is incompatible.\n",
            "blosc2 3.3.2 requires numpy>=1.26, but you have numpy 1.24.3 which is incompatible.\n",
            "treescope 0.1.9 requires numpy>=1.25.2, but you have numpy 1.24.3 which is incompatible.\n",
            "scikit-image 0.25.2 requires scipy>=1.11.4, but you have scipy 1.10.1 which is incompatible.\n",
            "pymc 5.22.0 requires numpy>=1.25.0, but you have numpy 1.24.3 which is incompatible.\n",
            "thinc 8.3.6 requires numpy<3.0.0,>=2.0.0, but you have numpy 1.24.3 which is incompatible.\n",
            "albumentations 2.0.6 requires numpy>=1.24.4, but you have numpy 1.24.3 which is incompatible.\n",
            "tsfresh 0.21.0 requires scipy>=1.14.0; python_version >= \"3.10\", but you have scipy 1.10.1 which is incompatible.\n",
            "albucore 0.0.24 requires numpy>=1.24.4, but you have numpy 1.24.3 which is incompatible.\u001b[0m\u001b[31m\n",
            "\u001b[0mSuccessfully installed gensim-4.3.1 numpy-1.24.3 scipy-1.10.1 smart-open-7.1.0 wrapt-1.17.2\n"
          ]
        },
        {
          "output_type": "display_data",
          "data": {
            "application/vnd.colab-display-data+json": {
              "pip_warning": {
                "packages": [
                  "numpy",
                  "smart_open",
                  "wrapt"
                ]
              },
              "id": "fefbf96c59fa4daab49f4ebb5890983d"
            }
          },
          "metadata": {}
        }
      ]
    },
    {
      "cell_type": "code",
      "source": [
        "\n",
        "from gensim.models import Word2Vec\n",
        "from nltk.tokenize import word_tokenize\n",
        "import nltk\n",
        "nltk.download('punkt')\n",
        "\n",
        "print(\"PRACTICAL-9 WordToVec using NLTK by Lathika Kotian - 98\\n\")\n",
        "# Function to train Word2Vec model\n",
        "def train_word_embeddings(sentences):\n",
        "    tokenized_sentences = [word_tokenize(sentence.lower()) for sentence in sentences]\n",
        "    model = Word2Vec(sentences=tokenized_sentences, vector_size=100, window=5, min_count=1, workers=4)\n",
        "\n",
        "    return model\n",
        "\n",
        "def use_word_embeddings(model, word, top_n=5):\n",
        "    try:\n",
        "        similar_words = model.wv.most_similar(word, topn=top_n)\n",
        "        print(f\"Words most similar to '{word}':\")\n",
        "        for w, score in similar_words:\n",
        "            print(f\"{w}: {score:.4f}\")\n",
        "    except KeyError:\n",
        "                print(f\"'{word}' not in vocabulary\")\n",
        "\n",
        "\n",
        "sentences = [\n",
        "    \"The quick brown fox jumps over the lazy dog\",\n",
        "    \"A fox is a cunning animal\",\n",
        "    \"The dog barks at night\",\n",
        "    \"Foxes and dogs are different species\"\n",
        "]\n",
        "\n",
        "# Train Word2Vec model using the provided sentences\n",
        "model = train_word_embeddings(sentences)\n",
        "\n",
        "# UsE TRAINEDmodel to find words similar to \"fox\"\n",
        "use_word_embeddings(model, \"fox\")\n"
      ],
      "metadata": {
        "colab": {
          "base_uri": "https://localhost:8080/"
        },
        "id": "sMqsthMVnher",
        "outputId": "076a9141-c564-413b-aa9c-ff42b1a99b0d"
      },
      "execution_count": 1,
      "outputs": [
        {
          "output_type": "stream",
          "name": "stdout",
          "text": [
            "PRACTICAL-9 WordToVec using NLTK by Lathika Kotian - 98\n",
            "\n",
            "Words most similar to 'fox':\n",
            "at: 0.1607\n",
            "dogs: 0.1593\n",
            "barks: 0.1372\n",
            "night: 0.1230\n",
            "and: 0.0854\n"
          ]
        },
        {
          "output_type": "stream",
          "name": "stderr",
          "text": [
            "[nltk_data] Downloading package punkt to /root/nltk_data...\n",
            "[nltk_data]   Package punkt is already up-to-date!\n"
          ]
        }
      ]
    },
    {
      "cell_type": "markdown",
      "source": [
        "**PRACTICAL 10:  NAIVE BAYES**"
      ],
      "metadata": {
        "id": "ayw0nqrooqmo"
      }
    },
    {
      "cell_type": "code",
      "source": [
        "print(\"PRACTICAL-10   text classifier NaiveBayes using scikit learn by Lathika Kotian - 98\\n\")\n",
        "\n",
        "import numpy as np\n",
        "from sklearn.model_selection import train_test_split\n",
        "from sklearn.feature_extraction.text import CountVectorizer\n",
        "from sklearn.naive_bayes import MultinomialNB\n",
        "from sklearn import metrics\n",
        "\n",
        "texts = [\n",
        "    \"I love programming\",\n",
        "    \"Python is great\",\n",
        "    \"I hate bugs\",\n",
        "    \"Coding is fun\",\n",
        "    \"I love solving problems\",\n",
        "    \"I hate error messages\",\n",
        "    \"Programming is awesome\",\n",
        "    \"Debugging is boring\",\n",
        "    \"This is terrible\",\n",
        "    \"Very disappointed with the experience\",\n",
        "    \"Worst product ever\",\n",
        "    \"Such a bad service\",\n",
        "    \"Absolutely amazing experience\",\n",
        "    \"Fantastic service and support\",\n",
        "    \"Really enjoyed the performance\",\n",
        "    \"Not satisfied at all after this\"\n",
        "]\n",
        "\n",
        "labels = [\n",
        "    'positive', 'positive', 'negative', 'positive', 'positive', 'negative', 'positive', 'negative',\n",
        "    'negative', 'negative', 'negative', 'negative',\n",
        "    'positive', 'positive', 'positive','negative'\n",
        "]\n",
        "\n",
        "# Vectorize the text using CountVectorizer\n",
        "vectorizer = CountVectorizer()\n",
        "X = vectorizer.fit_transform(texts)\n",
        "y = np.array(labels)\n",
        "\n",
        "X_train, X_test, y_train, y_test = train_test_split(X, y, test_size=0.25, random_state=42)\n",
        "\n",
        "classifier = MultinomialNB()\n",
        "classifier.fit(X_train, y_train)\n",
        "\n",
        "y_pred = classifier.predict(X_test)\n",
        "\n",
        "# Evaluate MOdel\n",
        "print(f\"Accuracy: {metrics.accuracy_score(y_test, y_pred):.4f}\")\n",
        "print(\"\\nConfusion Matrix:\")\n",
        "print(metrics.confusion_matrix(y_test, y_pred))\n",
        "print(\"\\nClassification Report:\")\n",
        "print(metrics.classification_report(y_test, y_pred))\n",
        "\n",
        "# Classify new text FOR testing\n",
        "new_texts = [\n",
        "    \"I really enjoyed the movie\",\n",
        "    \"This product is terrible and disappointing\",\n",
        "    \"Absolutely loved it!\",\n",
        "    \"Not satisfied at all\"\n",
        "]\n",
        "\n",
        "new_texts_vectorized = vectorizer.transform(new_texts)\n",
        "new_predictions = classifier.predict(new_texts_vectorized)\n",
        "\n",
        "print(\"\\nNew Text Classification Results:\")\n",
        "for text, label in zip(new_texts, new_predictions):\n",
        "    print(f\"Text: '{text}' => Predicted Label: '{label}'\")\n"
      ],
      "metadata": {
        "colab": {
          "base_uri": "https://localhost:8080/"
        },
        "id": "_sf9QO2oovbP",
        "outputId": "cc0fab73-2415-4e43-8e11-3d35cec9e31a"
      },
      "execution_count": 2,
      "outputs": [
        {
          "output_type": "stream",
          "name": "stdout",
          "text": [
            "PRACTICAL-10   text classifier NaiveBayes using scikit learn by Lathika Kotian - 98\n",
            "\n",
            "Accuracy: 0.7500\n",
            "\n",
            "Confusion Matrix:\n",
            "[[1 0]\n",
            " [1 2]]\n",
            "\n",
            "Classification Report:\n",
            "              precision    recall  f1-score   support\n",
            "\n",
            "    negative       0.50      1.00      0.67         1\n",
            "    positive       1.00      0.67      0.80         3\n",
            "\n",
            "    accuracy                           0.75         4\n",
            "   macro avg       0.75      0.83      0.73         4\n",
            "weighted avg       0.88      0.75      0.77         4\n",
            "\n",
            "\n",
            "New Text Classification Results:\n",
            "Text: 'I really enjoyed the movie' => Predicted Label: 'negative'\n",
            "Text: 'This product is terrible and disappointing' => Predicted Label: 'negative'\n",
            "Text: 'Absolutely loved it!' => Predicted Label: 'positive'\n",
            "Text: 'Not satisfied at all' => Predicted Label: 'negative'\n"
          ]
        }
      ]
    },
    {
      "cell_type": "markdown",
      "source": [
        "**PRACTICAL 11:SENTIMENT ANALYSIS**"
      ],
      "metadata": {
        "id": "CFxlbyFtpDbk"
      }
    },
    {
      "cell_type": "code",
      "source": [
        "\n",
        "print(\"PRACTICAL-11  Sentiment Analysis by Lathika Kotian - 98\\n\")\n",
        "import nltk\n",
        "from nltk.sentiment import SentimentIntensityAnalyzer\n",
        "import pandas as pd\n",
        "\n",
        "nltk.download('vader_lexicon')\n",
        "def analyze_sentiment(text):\n",
        "    sia = SentimentIntensityAnalyzer()\n",
        "    sentiment_scores = sia.polarity_scores(text)\n",
        "\n",
        "    if sentiment_scores['compound'] >= 0.1:\n",
        "        sentiment = \"Positive\"\n",
        "    elif sentiment_scores['compound'] <= -0.1:\n",
        "        sentiment = \"Negative\"\n",
        "    else:\n",
        "        sentiment = \"Neutral\"\n",
        "\n",
        "    return sentiment, sentiment_scores\n",
        "\n",
        "def analyze_sentiments(texts):\n",
        "    results = []\n",
        "    for text in texts:\n",
        "        sentiment, scores = analyze_sentiment(text)\n",
        "        results.append({\n",
        "                    'text': text,\n",
        "                    'sentiment': sentiment,\n",
        "                    'pos_score': scores['pos'],\n",
        "                    'neg_score': scores['neg'],\n",
        "                    'neu_score': scores['neu'],\n",
        "                    'compound_score': scores['compound']\n",
        "                })\n",
        "    return pd.DataFrame(results)\n",
        "\n",
        "\n",
        "texts = [\n",
        "    \"I absolutely love this product! It's amazing!\",\n",
        "    \"This is the worst experience I've ever had.\",\n",
        "    \"The movie was okay, nothing special.\",\n",
        "    \"I'm feeling pretty neutral about the whole situation.\",\n",
        "    \"The customer service was excellent and very helpful!\"\n",
        "]\n",
        "\n",
        "results_df = analyze_sentiments(texts)\n",
        "print(results_df)"
      ],
      "metadata": {
        "colab": {
          "base_uri": "https://localhost:8080/"
        },
        "id": "1PARr2oNpKht",
        "outputId": "8f2e4c34-5cdc-420c-f6ff-cfed909c1caf"
      },
      "execution_count": 3,
      "outputs": [
        {
          "output_type": "stream",
          "name": "stdout",
          "text": [
            "PRACTICAL-11  Sentiment Analysis by Lathika Kotian - 98\n",
            "\n"
          ]
        },
        {
          "output_type": "stream",
          "name": "stderr",
          "text": [
            "[nltk_data] Downloading package vader_lexicon to /root/nltk_data...\n"
          ]
        },
        {
          "output_type": "stream",
          "name": "stdout",
          "text": [
            "                                                text sentiment  pos_score  \\\n",
            "0      I absolutely love this product! It's amazing!  Positive      0.689   \n",
            "1        This is the worst experience I've ever had.  Negative      0.000   \n",
            "2               The movie was okay, nothing special.   Neutral      0.233   \n",
            "3  I'm feeling pretty neutral about the whole sit...  Positive      0.439   \n",
            "4  The customer service was excellent and very he...  Positive      0.541   \n",
            "\n",
            "   neg_score  neu_score  compound_score  \n",
            "0      0.000      0.311          0.8713  \n",
            "1      0.369      0.631         -0.6249  \n",
            "2      0.277      0.490         -0.0920  \n",
            "3      0.000      0.561          0.5719  \n",
            "4      0.000      0.459          0.7955  \n"
          ]
        }
      ]
    },
    {
      "cell_type": "markdown",
      "source": [
        "**PRACTICAL 12 : SUMMARIZATION**"
      ],
      "metadata": {
        "id": "-wUXxTOTpPWV"
      }
    },
    {
      "cell_type": "code",
      "source": [
        "# PRACTICAL-12: Text summarization by Lathika Kotian - 98\n",
        "# !pip install --upgrade --force-reinstall numpy==1.24.3\n",
        "# !pip uninstall -y numpy scipy transformers\n",
        "!pip uninstall -y numpy\n",
        "\n",
        "!pip install scipy\n"
      ],
      "metadata": {
        "colab": {
          "base_uri": "https://localhost:8080/"
        },
        "id": "5pd-5IxQpTst",
        "outputId": "f19482c9-0ae8-407f-80ce-3b5eda34daa8"
      },
      "execution_count": 3,
      "outputs": [
        {
          "output_type": "stream",
          "name": "stdout",
          "text": [
            "Found existing installation: numpy 2.2.6\n",
            "Uninstalling numpy-2.2.6:\n",
            "  Successfully uninstalled numpy-2.2.6\n",
            "\u001b[33mWARNING: Skipping scipy as it is not installed.\u001b[0m\u001b[33m\n",
            "\u001b[0mFound existing installation: transformers 4.51.3\n",
            "Uninstalling transformers-4.51.3:\n",
            "  Successfully uninstalled transformers-4.51.3\n",
            "Collecting scipy\n",
            "  Downloading scipy-1.15.3-cp311-cp311-manylinux_2_17_x86_64.manylinux2014_x86_64.whl.metadata (61 kB)\n",
            "\u001b[2K     \u001b[90m━━━━━━━━━━━━━━━━━━━━━━━━━━━━━━━━━━━━━━━━\u001b[0m \u001b[32m62.0/62.0 kB\u001b[0m \u001b[31m1.6 MB/s\u001b[0m eta \u001b[36m0:00:00\u001b[0m\n",
            "\u001b[?25hCollecting numpy<2.5,>=1.23.5 (from scipy)\n",
            "  Using cached numpy-2.2.6-cp311-cp311-manylinux_2_17_x86_64.manylinux2014_x86_64.whl.metadata (62 kB)\n",
            "Downloading scipy-1.15.3-cp311-cp311-manylinux_2_17_x86_64.manylinux2014_x86_64.whl (37.7 MB)\n",
            "\u001b[2K   \u001b[90m━━━━━━━━━━━━━━━━━━━━━━━━━━━━━━━━━━━━━━━━\u001b[0m \u001b[32m37.7/37.7 MB\u001b[0m \u001b[31m24.3 MB/s\u001b[0m eta \u001b[36m0:00:00\u001b[0m\n",
            "\u001b[?25hUsing cached numpy-2.2.6-cp311-cp311-manylinux_2_17_x86_64.manylinux2014_x86_64.whl (16.8 MB)\n",
            "Installing collected packages: numpy, scipy\n",
            "\u001b[31mERROR: pip's dependency resolver does not currently take into account all the packages that are installed. This behaviour is the source of the following dependency conflicts.\n",
            "sentence-transformers 4.1.0 requires transformers<5.0.0,>=4.41.0, which is not installed.\n",
            "peft 0.15.2 requires transformers, which is not installed.\n",
            "tensorflow 2.18.0 requires numpy<2.1.0,>=1.26.0, but you have numpy 2.2.6 which is incompatible.\n",
            "numba 0.60.0 requires numpy<2.1,>=1.22, but you have numpy 2.2.6 which is incompatible.\u001b[0m\u001b[31m\n",
            "\u001b[0mSuccessfully installed numpy-2.2.6 scipy-1.15.3\n"
          ]
        }
      ]
    },
    {
      "cell_type": "code",
      "source": [
        "# !pip install numpy==1.24.3 scipy==1.10.1 transformers torch\n",
        "!pip install transformers torch\n"
      ],
      "metadata": {
        "colab": {
          "base_uri": "https://localhost:8080/"
        },
        "id": "Zz0YBnDBqvab",
        "outputId": "c5d18cc7-c6a9-4f12-c1da-d228600fefbf"
      },
      "execution_count": 2,
      "outputs": [
        {
          "output_type": "stream",
          "name": "stdout",
          "text": [
            "Requirement already satisfied: transformers in /usr/local/lib/python3.11/dist-packages (4.51.3)\n",
            "Requirement already satisfied: torch in /usr/local/lib/python3.11/dist-packages (2.6.0+cu124)\n",
            "Requirement already satisfied: filelock in /usr/local/lib/python3.11/dist-packages (from transformers) (3.18.0)\n",
            "Requirement already satisfied: huggingface-hub<1.0,>=0.30.0 in /usr/local/lib/python3.11/dist-packages (from transformers) (0.31.2)\n",
            "Requirement already satisfied: numpy>=1.17 in /usr/local/lib/python3.11/dist-packages (from transformers) (2.2.6)\n",
            "Requirement already satisfied: packaging>=20.0 in /usr/local/lib/python3.11/dist-packages (from transformers) (24.2)\n",
            "Requirement already satisfied: pyyaml>=5.1 in /usr/local/lib/python3.11/dist-packages (from transformers) (6.0.2)\n",
            "Requirement already satisfied: regex!=2019.12.17 in /usr/local/lib/python3.11/dist-packages (from transformers) (2024.11.6)\n",
            "Requirement already satisfied: requests in /usr/local/lib/python3.11/dist-packages (from transformers) (2.32.3)\n",
            "Requirement already satisfied: tokenizers<0.22,>=0.21 in /usr/local/lib/python3.11/dist-packages (from transformers) (0.21.1)\n",
            "Requirement already satisfied: safetensors>=0.4.3 in /usr/local/lib/python3.11/dist-packages (from transformers) (0.5.3)\n",
            "Requirement already satisfied: tqdm>=4.27 in /usr/local/lib/python3.11/dist-packages (from transformers) (4.67.1)\n",
            "Requirement already satisfied: typing-extensions>=4.10.0 in /usr/local/lib/python3.11/dist-packages (from torch) (4.13.2)\n",
            "Requirement already satisfied: networkx in /usr/local/lib/python3.11/dist-packages (from torch) (3.4.2)\n",
            "Requirement already satisfied: jinja2 in /usr/local/lib/python3.11/dist-packages (from torch) (3.1.6)\n",
            "Requirement already satisfied: fsspec in /usr/local/lib/python3.11/dist-packages (from torch) (2025.3.2)\n",
            "Requirement already satisfied: nvidia-cuda-nvrtc-cu12==12.4.127 in /usr/local/lib/python3.11/dist-packages (from torch) (12.4.127)\n",
            "Requirement already satisfied: nvidia-cuda-runtime-cu12==12.4.127 in /usr/local/lib/python3.11/dist-packages (from torch) (12.4.127)\n",
            "Requirement already satisfied: nvidia-cuda-cupti-cu12==12.4.127 in /usr/local/lib/python3.11/dist-packages (from torch) (12.4.127)\n",
            "Requirement already satisfied: nvidia-cudnn-cu12==9.1.0.70 in /usr/local/lib/python3.11/dist-packages (from torch) (9.1.0.70)\n",
            "Requirement already satisfied: nvidia-cublas-cu12==12.4.5.8 in /usr/local/lib/python3.11/dist-packages (from torch) (12.4.5.8)\n",
            "Requirement already satisfied: nvidia-cufft-cu12==11.2.1.3 in /usr/local/lib/python3.11/dist-packages (from torch) (11.2.1.3)\n",
            "Requirement already satisfied: nvidia-curand-cu12==10.3.5.147 in /usr/local/lib/python3.11/dist-packages (from torch) (10.3.5.147)\n",
            "Requirement already satisfied: nvidia-cusolver-cu12==11.6.1.9 in /usr/local/lib/python3.11/dist-packages (from torch) (11.6.1.9)\n",
            "Requirement already satisfied: nvidia-cusparse-cu12==12.3.1.170 in /usr/local/lib/python3.11/dist-packages (from torch) (12.3.1.170)\n",
            "Requirement already satisfied: nvidia-cusparselt-cu12==0.6.2 in /usr/local/lib/python3.11/dist-packages (from torch) (0.6.2)\n",
            "Requirement already satisfied: nvidia-nccl-cu12==2.21.5 in /usr/local/lib/python3.11/dist-packages (from torch) (2.21.5)\n",
            "Requirement already satisfied: nvidia-nvtx-cu12==12.4.127 in /usr/local/lib/python3.11/dist-packages (from torch) (12.4.127)\n",
            "Requirement already satisfied: nvidia-nvjitlink-cu12==12.4.127 in /usr/local/lib/python3.11/dist-packages (from torch) (12.4.127)\n",
            "Requirement already satisfied: triton==3.2.0 in /usr/local/lib/python3.11/dist-packages (from torch) (3.2.0)\n",
            "Requirement already satisfied: sympy==1.13.1 in /usr/local/lib/python3.11/dist-packages (from torch) (1.13.1)\n",
            "Requirement already satisfied: mpmath<1.4,>=1.1.0 in /usr/local/lib/python3.11/dist-packages (from sympy==1.13.1->torch) (1.3.0)\n",
            "Requirement already satisfied: MarkupSafe>=2.0 in /usr/local/lib/python3.11/dist-packages (from jinja2->torch) (3.0.2)\n",
            "Requirement already satisfied: charset-normalizer<4,>=2 in /usr/local/lib/python3.11/dist-packages (from requests->transformers) (3.4.2)\n",
            "Requirement already satisfied: idna<4,>=2.5 in /usr/local/lib/python3.11/dist-packages (from requests->transformers) (3.10)\n",
            "Requirement already satisfied: urllib3<3,>=1.21.1 in /usr/local/lib/python3.11/dist-packages (from requests->transformers) (2.4.0)\n",
            "Requirement already satisfied: certifi>=2017.4.17 in /usr/local/lib/python3.11/dist-packages (from requests->transformers) (2025.4.26)\n"
          ]
        }
      ]
    },
    {
      "cell_type": "code",
      "source": [
        "from transformers import pipeline\n",
        "\n",
        "print(\"PRACTICAL-12 Text summarization by Lathika Kotian - 98\\n\")\n",
        "\n",
        "def summarize_text(text, max_length=150, min_length=50):\n",
        "    summarizer = pipeline(\"summarization\", model=\"facebook/bart-large-cnn\")\n",
        "    summary = summarizer(text, max_length=max_length, min_length=min_length, do_sample=False)\n",
        "    return summary[0]['summary_text']\n",
        "\n",
        "long_text = \"\"\"\n",
        "Natural Language Processing is a subfield of artificial intelligence (AI) that focuses on enabling machines to understand, interpret, and generate human language. NLP combines computational linguistics, computer science, and machine learning to process and analyze vast amounts of natural language data. As communication through text and speech is fundamental to human interaction, NLP plays a crucial role in bridging the gap between human and machine communication. One of the fundamental tasks in NLP is tokenization, where text is broken down into smaller units such as words or sentences. This is often the first step in more complex processes like part-of-speech tagging, which assigns grammatical categories (like noun or verb) to each word. Other essential techniques include stemming and lemmatization, which reduce words to their root or dictionary form to help normalize variations. More advanced NLP tasks include named entity recognition (NER), which identifies proper nouns like names of people, organizations, and locations, and sentiment analysis, which determines the emotional tone behind a body of text. Text classification, another key task, allows for organizing documents or messages into categories such as spam vs. non-spam, or positive vs. negative reviews. With the advent of deep learning, NLP has advanced dramatically. Particularly transformer-based architectures like BERT (Bidirectional Encoder Representations from Transformers), GPT (Generative Pre-trained Transformer), and RoBERTa. These models are capable of understanding context, ambiguity, and even generating human-like text with impressive fluency. NLP is widely used in both consumer and enterprise applications. Popular use cases include chatbots and virtual assistants like Siri, Alexa, and Google Assistant, which rely on NLP to interpret and respond to voice commands.\n",
        "\"\"\"\n",
        "\n",
        "summary = summarize_text(long_text)\n",
        "\n",
        "print(\"Original text length:\", len(long_text))\n",
        "print(\"Summary length:\", len(summary))\n",
        "print(\"\\nSummary:\")\n",
        "print(summary)\n"
      ],
      "metadata": {
        "colab": {
          "base_uri": "https://localhost:8080/",
          "height": 472,
          "referenced_widgets": [
            "d0d2407ee0bd478cb98a4b18635f585e",
            "7012aef13a6e454f87448ba1fc55eeae",
            "03e42a6771494feda6a827c25f0ef151",
            "758288371a3c45f4ba0e33deffca806d",
            "c089d7163e8c4eb19164d490a2900b45",
            "6781191675cd47e3b7b4ac90c39e3fcc",
            "b195cefe0b534ae8bf32b248f6540c0c",
            "0f502f52c35444a3ab732f202c24d6c7",
            "80a90cba363e46c4935e65847daebbce",
            "e3094026f9a74214a63f80fd97df7b56",
            "523e2ee64b844bbbb4da3789de27b3b7",
            "c0344bd8a5fa40b5977998928b31a95d",
            "1dc93cc684e941ac90741e2ae28cbf7b",
            "9c6be8bc977d437e90f69f24b3289b62",
            "42b0f047683d4718ab316f14744826a4",
            "8531187e35a34190bc7b93b0a8e64e64",
            "3850749cfc7147d59fff4e4ff61f01fe",
            "33b6ba6e215f4706be4178c970f1ffa0",
            "dd0911aaacf0431daed69f2abefe6df9",
            "12fd21cca08b493a966280c9e050e03b",
            "d83807a3477a40479bbd78cc1a789b2f",
            "dbe0eda87521404692b13460c16c53f1",
            "5ba479e734974e19a3b4e2548feeb5ac",
            "6f1f152f7b1145ba95cab2aa35a0c009",
            "ff3e9d484d784280be17aca59fdfb23a",
            "1c8c344256fe458aa064d99f00046ca7",
            "021eeb9b39404183b71f6e15c8f7d6e7",
            "0373699f8c2546d1a293a80873e36790",
            "5930dfc56f594bfc8d7510a0fe962c65",
            "723995d51c18442483fb0f9c644a22a2",
            "d712bfdb1c654b0a81007219e7832d15",
            "f7d165c2ded84a40b9a3fde97e3f02fd",
            "93c8adbb2cb34630b62f1b49b1a2ed79",
            "72e43f242c524bd4a1178228efe63d28",
            "9bdf70be31de43a29aff6824cb309cec",
            "8d4b5d8d32024ff0bf5aa566b37242ca",
            "b150c20670d94c619a47c111e9bd1264",
            "f4007872028744689311e757be26ba3f",
            "8d566c87054c406d84998970c3f34655",
            "2c1fd9b7d71f45bc91461f2ccb35a606",
            "f33b334f76334d3ba8de8d8c55af59ba",
            "9651c94f49794e5ca6b80bdb8159bd57",
            "b2b796070f0e44068b7ac1667c1872f0",
            "ee7a2841583e4af2ae6c2b8ab5a768ca",
            "9a1c0294e78c4ce685215a583a561eba",
            "cea5b577323d4feabcd3b722b916387c",
            "6896ecf35aa447d6b639a18040542abd",
            "d9551d98063a468195fb9755cb8d6be9",
            "19bbedffe3e744098e53fc43fc539921",
            "dcf154e8cdd948bcb119c4a7d98e1f35",
            "b52387ac170246ecb7e606d78ead6c0b",
            "add1525e45ce4db0b88c1a97b9fcea69",
            "64f39e2dad36417eb3dddd3407145066",
            "747e78f217b14e68a031fca5b1372d7f",
            "98cce19152e745c2b3b6537384353be3",
            "ec78cbd4d91d419284d79f8d10b8b9a4",
            "e8cf3729726d442a9de0e73ca333060e",
            "0c5befeaa1d14d13a2d8256b80671bce",
            "0b591f28a9014c56b10bbc531b0da68c",
            "ff576f53494b4dfb9729c76db8a3d283",
            "c969f63614854b89a62bbd3d3cf16a6c",
            "56db991073574dbd94caf9cb30d6846e",
            "2cc96a787e2840dbbb56d26c27736246",
            "171ca9012aa7443bb241d59827678259",
            "0b1f506d3c1148c0a00a9cacd3f87a6b",
            "7f49f8055c7c407cbfa9661f8e3eab21"
          ]
        },
        "id": "Q83bQG-DpegK",
        "outputId": "15e9b933-86d0-4874-dab8-478102d0741c"
      },
      "execution_count": 3,
      "outputs": [
        {
          "output_type": "stream",
          "name": "stdout",
          "text": [
            "PRACTICAL-12 Text summarization by Lathika Kotian - 98\n",
            "\n"
          ]
        },
        {
          "output_type": "stream",
          "name": "stderr",
          "text": [
            "/usr/local/lib/python3.11/dist-packages/huggingface_hub/utils/_auth.py:94: UserWarning: \n",
            "The secret `HF_TOKEN` does not exist in your Colab secrets.\n",
            "To authenticate with the Hugging Face Hub, create a token in your settings tab (https://huggingface.co/settings/tokens), set it as secret in your Google Colab and restart your session.\n",
            "You will be able to reuse this secret in all of your notebooks.\n",
            "Please note that authentication is recommended but still optional to access public models or datasets.\n",
            "  warnings.warn(\n"
          ]
        },
        {
          "output_type": "display_data",
          "data": {
            "text/plain": [
              "config.json:   0%|          | 0.00/1.58k [00:00<?, ?B/s]"
            ],
            "application/vnd.jupyter.widget-view+json": {
              "version_major": 2,
              "version_minor": 0,
              "model_id": "d0d2407ee0bd478cb98a4b18635f585e"
            }
          },
          "metadata": {}
        },
        {
          "output_type": "display_data",
          "data": {
            "text/plain": [
              "model.safetensors:   0%|          | 0.00/1.63G [00:00<?, ?B/s]"
            ],
            "application/vnd.jupyter.widget-view+json": {
              "version_major": 2,
              "version_minor": 0,
              "model_id": "c0344bd8a5fa40b5977998928b31a95d"
            }
          },
          "metadata": {}
        },
        {
          "output_type": "display_data",
          "data": {
            "text/plain": [
              "generation_config.json:   0%|          | 0.00/363 [00:00<?, ?B/s]"
            ],
            "application/vnd.jupyter.widget-view+json": {
              "version_major": 2,
              "version_minor": 0,
              "model_id": "5ba479e734974e19a3b4e2548feeb5ac"
            }
          },
          "metadata": {}
        },
        {
          "output_type": "display_data",
          "data": {
            "text/plain": [
              "vocab.json:   0%|          | 0.00/899k [00:00<?, ?B/s]"
            ],
            "application/vnd.jupyter.widget-view+json": {
              "version_major": 2,
              "version_minor": 0,
              "model_id": "72e43f242c524bd4a1178228efe63d28"
            }
          },
          "metadata": {}
        },
        {
          "output_type": "display_data",
          "data": {
            "text/plain": [
              "merges.txt:   0%|          | 0.00/456k [00:00<?, ?B/s]"
            ],
            "application/vnd.jupyter.widget-view+json": {
              "version_major": 2,
              "version_minor": 0,
              "model_id": "9a1c0294e78c4ce685215a583a561eba"
            }
          },
          "metadata": {}
        },
        {
          "output_type": "display_data",
          "data": {
            "text/plain": [
              "tokenizer.json:   0%|          | 0.00/1.36M [00:00<?, ?B/s]"
            ],
            "application/vnd.jupyter.widget-view+json": {
              "version_major": 2,
              "version_minor": 0,
              "model_id": "ec78cbd4d91d419284d79f8d10b8b9a4"
            }
          },
          "metadata": {}
        },
        {
          "output_type": "stream",
          "name": "stderr",
          "text": [
            "Device set to use cpu\n"
          ]
        },
        {
          "output_type": "stream",
          "name": "stdout",
          "text": [
            "Original text length: 1866\n",
            "Summary length: 368\n",
            "\n",
            "Summary:\n",
            "Natural Language Processing is a subfield of artificial intelligence (AI) that focuses on enabling machines to understand, interpret, and generate human language. NLP combines computational linguistics, computer science, and machine learning to process and analyze vast amounts of natural language data. With the advent of deep learning, NLP has advanced dramatically.\n"
          ]
        }
      ]
    }
  ]
}